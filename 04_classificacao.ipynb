{
 "cells": [
  {
   "cell_type": "markdown",
   "metadata": {},
   "source": [
    "# i) Regra da soma"
   ]
  },
  {
   "cell_type": "code",
   "execution_count": null,
   "metadata": {},
   "outputs": [],
   "source": [
    "import os\n",
    "import numpy as np\n",
    "import pandas as pd\n",
    "import clustering"
   ]
  },
  {
   "cell_type": "markdown",
   "metadata": {},
   "source": [
    "## Datasets"
   ]
  },
  {
   "cell_type": "code",
   "execution_count": null,
   "metadata": {},
   "outputs": [],
   "source": [
    "DATA_BASE_PATH = \"./data\"\n",
    "\n",
    "FAC_FILE = os.path.join(DATA_BASE_PATH, \"mfeat-fac\")\n",
    "FOU_FILE = os.path.join(DATA_BASE_PATH, \"mfeat-fou\")\n",
    "KAR_FILE = os.path.join(DATA_BASE_PATH, \"mfeat-kar\")\n",
    "\n",
    "fac = np.loadtxt(FAC_FILE, dtype=int)\n",
    "fou = np.loadtxt(FOU_FILE, dtype=float)\n",
    "kar = np.loadtxt(KAR_FILE, dtype=float)"
   ]
  },
  {
   "cell_type": "markdown",
   "metadata": {},
   "source": [
    "## Importando melhor resultado"
   ]
  },
  {
   "cell_type": "code",
   "execution_count": null,
   "metadata": {},
   "outputs": [],
   "source": [
    "best_result = clustering.import_best_result(\"data/melhor_resultado_todas.pickle\")\n",
    "partition, y_true = clustering.get_hard_patitions(best_result[\"membership_degree\"])\n"
   ]
  },
  {
   "cell_type": "markdown",
   "metadata": {},
   "source": [
    "## Probabilidade à priori das classes"
   ]
  },
  {
   "cell_type": "code",
   "execution_count": null,
   "metadata": {},
   "outputs": [],
   "source": [
    "Pw = np.array([len(c)/2000 for c in partition])\n",
    "Pw"
   ]
  },
  {
   "cell_type": "raw",
   "metadata": {},
   "source": [
    "for i, idxs in enumerate(partition):\n",
    "    pd.DataFrame(fac[idxs]).to_csv(f\"data/fac{i}.csv\",decimal=\",\", index=False, header=False)"
   ]
  },
  {
   "cell_type": "raw",
   "metadata": {},
   "source": [
    "pd.DataFrame(partition).to_csv(f\"data/partition.csv\",decimal=\",\", index=False, header=False)"
   ]
  },
  {
   "cell_type": "markdown",
   "metadata": {},
   "source": [
    "## Função de densidade"
   ]
  },
  {
   "cell_type": "code",
   "execution_count": null,
   "metadata": {},
   "outputs": [],
   "source": [
    "def calc_gaussian_density_prob(xk, d, means, var, cov_matrix):\n",
    "    coef = np.power(2*np.pi, -d/2) \n",
    "    inv_cov_matrix = np.linalg.inv(cov_matrix)\n",
    "    (sign, logdet) = np.linalg.slogdet(inv_cov_matrix)\n",
    "    sqrt_det_inv_cov = np.sqrt(sign*np.exp(logdet))\n",
    "    diff = xk - means\n",
    "    exp_exp = np.dot((-1/2)*np.dot(diff.T, inv_cov_matrix), diff)\n",
    "    exp_func = np.exp(exp_exp)\n",
    "    \n",
    "    return coef * sqrt_det_inv_cov * exp_func"
   ]
  },
  {
   "cell_type": "code",
   "execution_count": null,
   "metadata": {},
   "outputs": [],
   "source": [
    "\n",
    "def calc_gaussian_bayesian_data(x, partition):\n",
    "    n,d = x.shape\n",
    "    qtd_w = len(partition)\n",
    "    means = np.array([x[idxs].mean(axis=0) for idxs in partition])\n",
    "    var = np.array([((x[idxs]-means[i])**2).mean(axis=0) for i, idxs in enumerate(partition)])\n",
    "    cov_matrix = [np.zeros((d,d)) for _ in range(qtd_w)]\n",
    "\n",
    "    for i in range(qtd_w):\n",
    "        np.fill_diagonal(cov_matrix[i], var[i])\n",
    "                \n",
    "    p_x_w = np.empty((n, qtd_w))\n",
    "    \n",
    "    for k in range(n):\n",
    "        for i in range(qtd_w):\n",
    "            p_x_w[k, i] = calc_gaussian_density_prob(x[k], d, means[i], var[i], cov_matrix[i])   \n",
    "    \n",
    "    return p_x_w\n",
    "\n",
    "def calc_prob_posteriori(p_x_w, Pw):\n",
    "    qtd_x, qtd_w = p_x_w.shape \n",
    "    p_w_x = np.empty((qtd_x, qtd_w))\n",
    "    \n",
    "    for k in range(qtd_x):\n",
    "        for i in range(qtd_w):\n",
    "            sum_all = np.dot(p_x_w[k], Pw)\n",
    "            p_w_x[k,i] = (p_x_w[k,i] * Pw[i])/sum_all\n",
    "       \n",
    "    return p_w_x\n"
   ]
  },
  {
   "cell_type": "markdown",
   "metadata": {},
   "source": [
    "## Densidades por dataset"
   ]
  },
  {
   "cell_type": "code",
   "execution_count": null,
   "metadata": {},
   "outputs": [],
   "source": [
    "fac_byn_density_probs = calc_gaussian_bayesian_data(fac, partition)\n",
    "fou_byn_density_probs = calc_gaussian_bayesian_data(fou, partition)\n",
    "kar_byn_density_probs = calc_gaussian_bayesian_data(kar, partition)"
   ]
  },
  {
   "cell_type": "code",
   "execution_count": null,
   "metadata": {},
   "outputs": [],
   "source": [
    "fac_byn_density_probs[0,0], fou_byn_density_probs[0,0], kar_byn_density_probs[0,0]"
   ]
  },
  {
   "cell_type": "markdown",
   "metadata": {},
   "source": [
    "## Prob. à posteriori por view"
   ]
  },
  {
   "cell_type": "code",
   "execution_count": null,
   "metadata": {},
   "outputs": [],
   "source": [
    "fac_byn_posteriori_probs = calc_prob_posteriori(fac_byn_density_probs, Pw)\n",
    "fou_byn_posteriori_probs = calc_prob_posteriori(fou_byn_density_probs, Pw)\n",
    "kar_byn_posteriori_probs = calc_prob_posteriori(kar_byn_density_probs, Pw)\n"
   ]
  },
  {
   "cell_type": "markdown",
   "metadata": {},
   "source": [
    "## Regra da soma\n",
    "\n",
    "Precisei tirar o fac porque seus valores são nulos. TENTAR CORRIGIR ISSO"
   ]
  },
  {
   "cell_type": "code",
   "execution_count": null,
   "metadata": {},
   "outputs": [],
   "source": [
    "def regra_soma_padrao(views, Pw):\n",
    "    qtd_x = views[0].shape[0]\n",
    "    qtd_w = len(Pw)\n",
    "    x_sum_w = np.empty((qtd_x, qtd_w))\n",
    "\n",
    "    for i in range(qtd_x):\n",
    "        for k in range(qtd_w):\n",
    "            views_sum = sum([v[i,k] for v in views])\n",
    "            x_sum_w[i,k] = (1-len(views))*Pw[k] + views_sum\n",
    "                    \n",
    "    y_pred = x_sum_w.argmax(axis = 1) \n",
    "    return y_pred"
   ]
  },
  {
   "cell_type": "markdown",
   "metadata": {},
   "source": [
    "## Estimador do scikit"
   ]
  },
  {
   "cell_type": "code",
   "execution_count": null,
   "metadata": {},
   "outputs": [],
   "source": [
    "from sklearn.base import BaseEstimator, ClassifierMixin\n",
    "from sklearn.utils.validation import check_X_y, check_array, check_is_fitted\n",
    "from sklearn.utils.multiclass import unique_labels\n",
    "\n",
    "class ClassificaforBayesiano(BaseEstimator, ClassifierMixin):\n",
    "    def __init__(self, partition, Pw):\n",
    "        self.partition = partition\n",
    "        self.Pw = Pw\n",
    "    \n",
    "    def fit(self, X, y):\n",
    "        X, y = check_X_y(X, y)\n",
    "         \n",
    "        self.classes_ = unique_labels(y)\n",
    "        self._fit_gaussian_bayesian_data(X)\n",
    "        self.X_ = X\n",
    "        self.y_ = y\n",
    "        return self\n",
    "    \n",
    "    def _fit_gaussian_bayesian_data(self, X):\n",
    "        n, d = X.shape\n",
    "        qtd_w = len(self.partition)\n",
    "        self.means = np.array([X[idxs].mean(axis=0) for idxs in self.partition])\n",
    "        self.var = np.array([((X[idxs]-self.means[i])**2).mean(axis=0) for i, idxs in enumerate(self.partition)])\n",
    "        self.cov_matrix = [np.zeros((d,d)) for _ in range(qtd_w)]\n",
    "\n",
    "        for i in range(qtd_w):\n",
    "            np.fill_diagonal(self.cov_matrix[i], self.var[i])\n",
    "\n",
    "        return self\n",
    "    \n",
    "    def _calc_gaussian_density_prob(self, xk, cls):\n",
    "        d = xk.shape[0]\n",
    "        coef = np.power(2*np.pi, -d/2)\n",
    "        inv_cov_matrix = np.linalg.inv(self.cov_matrix[cls])\n",
    "        (sign, logdet) = np.linalg.slogdet(inv_cov_matrix)\n",
    "        sqrt_det_inv_cov = np.sqrt(sign*np.exp(logdet))\n",
    "        diff = xk - self.means[cls]\n",
    "        exp_exp = np.dot((-1/2)*np.dot(diff.T, inv_cov_matrix), diff)\n",
    "        exp_func = np.exp(exp_exp)\n",
    "\n",
    "        return coef * sqrt_det_inv_cov * exp_func\n",
    "\n",
    "    def predict_proba(self, X):\n",
    "        check_is_fitted(self)\n",
    "        X = check_array(X)\n",
    "        \n",
    "        desity_probs = np.empty((X.shape[0], len(self.classes_)))\n",
    "        for k in range(desity_probs.shape[0]):\n",
    "            for j in range(len(self.classes_)):\n",
    "                desity_probs[k,j] = self._calc_gaussian_density_prob(X[k], j)\n",
    "        \n",
    "        post_probs = calc_prob_posteriori(desity_probs, self.Pw)\n",
    "        \n",
    "        return post_probs\n",
    "        \n",
    "        "
   ]
  },
  {
   "cell_type": "code",
   "execution_count": null,
   "metadata": {},
   "outputs": [],
   "source": [
    "class RegraSomaClasificadorBayesiano(BaseEstimator, ClassifierMixin):\n",
    "    def __init__(self, partition, Pw):\n",
    "#         self.views = views\n",
    "        self.partition = partition\n",
    "        self.Pw = Pw\n",
    "        self.clfs = []        \n",
    "    \n",
    "    def fit(self, X, y):\n",
    "#         X, y = check_X_y(X, y)\n",
    "         \n",
    "        self.classes_ = unique_labels(y)\n",
    "        self.X_ = X\n",
    "        self.y_ = y\n",
    "        \n",
    "        for x in X:\n",
    "            clf = ClassificaforBayesiano(self.partition, Pw)\n",
    "            clf.fit(x,y)\n",
    "            self.clfs.append(clf)\n",
    "            \n",
    "        return self\n",
    "    \n",
    "    def predict(self, X):\n",
    "        assert len(X) == len(self.clfs)\n",
    "        # Check is fit had been called\n",
    "        check_is_fitted(self)\n",
    "\n",
    "        # Input validation\n",
    "#         X = check_array(X)\n",
    "        \n",
    "        post_probs = [clf.predict_proba(x) for clf, x in zip(self.clfs, X)]\n",
    "        \n",
    "        return self.regra_soma(post_probs, Pw=self.Pw)\n",
    "    \n",
    "    def get_params(self, deep=True):\n",
    "        return {\"Pw\": self.Pw, \"partition\": self.partition}\n",
    "    \n",
    "    def regra_soma(self, matrizes, Pw):\n",
    "        qtd_x = matrizes[0].shape[0]\n",
    "        qtd_w = len(Pw)\n",
    "        x_sum_w = np.empty((qtd_x, qtd_w))\n",
    "        \n",
    "        for i in range(qtd_x):\n",
    "            for k in range(qtd_w):\n",
    "                views_sum = sum([v[i,k] for v in matrizes])\n",
    "                # views_sum =  fac_p_w_x[i,k] fou_p_w_x[i,k] + kar_p_w_x[i,k]\n",
    "                x_sum_w[i,k] = (1-len(matrizes))*Pw[k] + views_sum\n",
    "                \n",
    "        y_pred = x_sum_w.argmax(axis = 1) \n",
    "        return y_pred\n",
    "\n",
    "# def regra_soma_padrao(fac_p_w_x, fou_p_w_x, kar_p_w_x, Pw):\n",
    "# x_sum_w = np.empty((10, 2000))\n",
    "\n",
    "# for i in range(10):\n",
    "#     for k in range(2000):\n",
    "#         views_sum =  fou_p_w_x[i,k] + kar_p_w_x[i,k]\n",
    "#         # views_sum =  fac_p_w_x[i,k] fou_p_w_x[i,k] + kar_p_w_x[i,k]\n",
    "#         x_sum_w[i,k] = (1-2)*Pw[i] + views_sum\n",
    "\n",
    "# y_pred = x_sum_w.argmax(axis = 0) \n",
    "# return y_pred"
   ]
  },
  {
   "cell_type": "markdown",
   "metadata": {},
   "source": [
    "## Validação cruzada"
   ]
  },
  {
   "cell_type": "code",
   "execution_count": null,
   "metadata": {},
   "outputs": [],
   "source": [
    "from sklearn.metrics import accuracy_score, f1_score\n",
    "from sklearn.model_selection import RepeatedStratifiedKFold\n",
    "\n",
    "RANDOM_SEED = 42\n",
    "FOLDS = 10\n",
    "REPEATS = 10\n",
    "\n",
    "def get_splited_partition(idxs, y_true):\n",
    "    partition = [[] for i in range(10)]\n",
    "    \n",
    "    for i,indice in enumerate(idxs):\n",
    "        partition[y_true[indice]].append(i)\n",
    "        \n",
    "    return partition\n",
    "    \n",
    "cv = RepeatedStratifiedKFold(FOLDS, REPEATS, RANDOM_SEED)\n",
    "acc_scores = np.empty((cv.get_n_splits(),))\n",
    "f1_scores = np.empty((cv.get_n_splits(),))\n",
    "\n",
    "#views = [fac, fou, kar]\n",
    "views = [fou, kar]\n",
    "\n",
    "for i, (train_index, test_index) in enumerate(cv.split(fac, y_true)):\n",
    "    print(f\"{i+1}/{cv.get_n_splits()}\", end=\" \")\n",
    "    \n",
    "    test_views = [v[test_index] for v in views]\n",
    "    train_views = [v[train_index] for v in views]\n",
    "    \n",
    "    local_partition = get_splited_partition(train_index, y_true)\n",
    "    clf = RegraSomaClasificadorBayesiano(local_partition, Pw)\n",
    "    \n",
    "    clf.fit(train_views, y_true[train_index])\n",
    "    \n",
    "    y_pred = clf.predict(test_views)\n",
    "    \n",
    "    acc_scores[i] = accuracy_score(y_true[test_index], y_pred)\n",
    "    f1_scores[i] = f1_score(y_true[test_index], y_pred, average=\"macro\") \n",
    "    \n",
    "    if (i+1)%50 == 0:\n",
    "        print\n",
    "        print(f\"\\n\\nAcurácia parcial: {acc_scores[:i+1].mean()} +/- ({acc_scores[:i+1].std()})\")\n",
    "        print(f\"Medida-F parcial: {f1_scores[:i+1].mean()} +/- ({f1_scores[:i+1].std()})\\n\")\n"
   ]
  },
  {
   "cell_type": "markdown",
   "metadata": {},
   "source": [
    "# ii) K-Vizinhos"
   ]
  },
  {
   "cell_type": "markdown",
   "metadata": {},
   "source": [
    "## Normalizando \n"
   ]
  },
  {
   "cell_type": "code",
   "execution_count": null,
   "metadata": {},
   "outputs": [],
   "source": [
    "from sklearn.preprocessing import minmax_scale\n",
    "\n",
    "fac_norm = minmax_scale(fac)\n",
    "fou_norm = minmax_scale(fou)\n",
    "kar_norm = minmax_scale(kar)"
   ]
  },
  {
   "cell_type": "markdown",
   "metadata": {},
   "source": [
    "## Distâncias entre os elementos"
   ]
  },
  {
   "cell_type": "code",
   "execution_count": null,
   "metadata": {},
   "outputs": [],
   "source": [
    "from sklearn.metrics.pairwise import euclidean_distances\n",
    "\n",
    "fac_dist = euclidean_distances(fac_norm, fac_norm)\n",
    "fou_dist = euclidean_distances(fou_norm, fou_norm)\n",
    "kar_dist = euclidean_distances(kar_norm, kar_norm)"
   ]
  },
  {
   "cell_type": "markdown",
   "metadata": {},
   "source": [
    "## Função de densidade"
   ]
  },
  {
   "cell_type": "code",
   "execution_count": null,
   "metadata": {},
   "outputs": [],
   "source": [
    "def calc_knn_density_prob(view_dists, k, Pw, y_true):\n",
    "    qtd_x = view_dists.shape[0]\n",
    "    qtd_w = len(Pw)\n",
    "    \n",
    "    p_x_w = np.empty((qtd_x, qtd_w))\n",
    "    k_vizinhos = view_dists.argsort(axis=1)[:,:k+1]\n",
    "    \n",
    "    for j in range(qtd_x):\n",
    "        w_vizinhos = y_true[k_vizinhos[j, 1:]]\n",
    "        for i in range(qtd_w):\n",
    "            p_x_w[j,i] = (w_vizinhos == i).sum()/k\n",
    "                    \n",
    "    return p_x_w\n",
    "    "
   ]
  },
  {
   "cell_type": "markdown",
   "metadata": {},
   "source": [
    "## Desidades por dataset"
   ]
  },
  {
   "cell_type": "code",
   "execution_count": null,
   "metadata": {},
   "outputs": [],
   "source": [
    "fac_knn_density_probs = calc_knn_density_prob(fac_dist, 5, Pw, y_true)\n",
    "fou_knn_density_probs = calc_knn_density_prob(fou_dist, 5, Pw, y_true)\n",
    "kar_knn_density_probs = calc_knn_density_prob(kar_dist, 5, Pw, y_true)\n"
   ]
  },
  {
   "cell_type": "markdown",
   "metadata": {},
   "source": [
    "## Prob. à posteriori por view"
   ]
  },
  {
   "cell_type": "code",
   "execution_count": null,
   "metadata": {},
   "outputs": [],
   "source": [
    "_, fac_knn_posteriori_probs = calc_prob_posteriori(fac_knn_density_probs, Pw)\n",
    "_, fou_knn_posteriori_probs = calc_prob_posteriori(fou_knn_density_probs, Pw)\n",
    "_, kar_knn_posteriori_probs = calc_prob_posteriori(kar_knn_density_probs, Pw)"
   ]
  },
  {
   "cell_type": "markdown",
   "metadata": {},
   "source": [
    "## Regra da soma"
   ]
  },
  {
   "cell_type": "code",
   "execution_count": null,
   "metadata": {},
   "outputs": [],
   "source": [
    "y_pred_knn_all = regra_soma_padrao([fac_knn_posteriori_probs, \n",
    "                                   fou_knn_posteriori_probs, \n",
    "                                   kar_knn_posteriori_probs], Pw)\n",
    "\n",
    "print(\"Acurácia: \", accuracy_score(y_true, y_pred_knn_all))\n",
    "print(\"Medida-F: \", f1_score(y_true, y_pred_knn_all, average=\"macro\"))"
   ]
  },
  {
   "cell_type": "markdown",
   "metadata": {},
   "source": [
    "## Validação cruzada"
   ]
  },
  {
   "cell_type": "code",
   "execution_count": null,
   "metadata": {},
   "outputs": [],
   "source": [
    "cv = RepeatedStratifiedKFold(FOLDS, 10, RANDOM_SEED)\n",
    "train_acc_scores = np.empty((cv.get_n_splits(),))\n",
    "train_f1_scores = np.empty((cv.get_n_splits(),))\n",
    "\n",
    "test_acc_scores = np.empty((cv.get_n_splits(),))\n",
    "test_f1_scores = np.empty((cv.get_n_splits(),))\n",
    "\n",
    "\n",
    "k_range = range(3,16,2)\n",
    "best_data = {\"f1_scores\": np.zeros((1,)), \n",
    "             \"k\":None}\n",
    "\n",
    "views = [fac, fou, kar]\n",
    "\n",
    "for k in k_range:\n",
    "    for i, (train_index, test_index) in enumerate(cv.split(fac, y_true)):\n",
    "#         print(f\"[k={k}] {i+1}/{cv.get_n_splits()}\", end=\" \")\n",
    "\n",
    "        train_views = [minmax_scale(v[train_index]) for v in views]\n",
    "        test_views = [minmax_scale(v[test_index]) for v in views]\n",
    "\n",
    "        train_views_dists = [euclidean_distances(v,v) for v in train_views]\n",
    "        test_views_dists = [euclidean_distances(v,v) for v in test_views]\n",
    "\n",
    "    #     y_true_split = get_splited_partition(train_index, y_true)\n",
    "\n",
    "        train_views_density_probs = [calc_knn_density_prob(v, k, Pw, y_true[train_index]) \n",
    "                                     for v in train_views_dists]\n",
    "\n",
    "        train_views_post_probs = [calc_prob_posteriori(v, Pw) \n",
    "                                  for v in train_views_density_probs]\n",
    "\n",
    "        y_pred_train = regra_soma_padrao(train_views_post_probs, Pw)\n",
    "\n",
    "\n",
    "        test_views_density_probs = [calc_knn_density_prob(v, k, Pw, y_true[test_index]) \n",
    "                                     for v in test_views_dists]\n",
    "\n",
    "        test_views_post_probs = [calc_prob_posteriori(v, Pw) \n",
    "                                  for v in test_views_density_probs]\n",
    "\n",
    "        y_pred_test = regra_soma_padrao(test_views_post_probs, Pw)\n",
    "\n",
    "        train_acc_scores[i] = accuracy_score(y_true[train_index], y_pred_train)\n",
    "        train_f1_scores[i] = f1_score(y_true[train_index], y_pred_train, average=\"macro\") \n",
    "\n",
    "        test_acc_scores[i] = accuracy_score(y_true[test_index], y_pred_test)\n",
    "        test_f1_scores[i] = f1_score(y_true[test_index], y_pred_test, average=\"macro\") \n",
    "        \n",
    "        if test_f1_scores[:i+1].mean() > best_data[\"f1_scores\"].mean():\n",
    "            best_data[\"f1_scores\"] = test_f1_scores[:i+1]\n",
    "            best_data[\"k\"] = k\n",
    "            \n",
    "            print(f\"\\nMelhor k: {k}\")\n",
    "            print(f\"Acurácia de treino parcial: {train_acc_scores[:i+1].mean():4} +/- ({train_acc_scores[:i+1].std():4})\")\n",
    "            print(f\"Medida-F de treino parcial: {train_f1_scores[:i+1].mean():4} +/- ({train_f1_scores[:i+1].std():4})\\n\")\n",
    "\n",
    "            print(f\"Acurácia de test parcial: {test_acc_scores[:i+1].mean():4} +/- ({test_acc_scores[:i+1].std():4})\")\n",
    "            print(f\"Medida-F de test parcial: {test_f1_scores[:i+1].mean():4} +/- ({test_f1_scores[:i+1].std():4})\\n\")\n",
    "\n",
    "    \n",
    "    "
   ]
  },
  {
   "cell_type": "code",
   "execution_count": null,
   "metadata": {},
   "outputs": [],
   "source": [
    "best_data"
   ]
  },
  {
   "cell_type": "markdown",
   "metadata": {},
   "source": [
    "# Janela de Parzen"
   ]
  },
  {
   "cell_type": "markdown",
   "metadata": {},
   "source": [
    "## Função de densidade"
   ]
  },
  {
   "cell_type": "code",
   "execution_count": 82,
   "metadata": {},
   "outputs": [],
   "source": [
    "# def parzen_density_function(view, h, partition):\n",
    "#     p_x_w = np.empty((10, 2000))\n",
    "#     dims = view.shape[1]\n",
    "#     elements_in_window = np.empty((10, dims))\n",
    "    \n",
    "#     def K(x):\n",
    "#         return np.exp(-x**2/2)/np.sqrt(2*np.pi)\n",
    "\n",
    "#     for i in range(10):\n",
    "#         n = len(partition[i])\n",
    "#         for k in range(2000):\n",
    "#             p = np.array([np.array([K((view[k,j] - view[e,j])/h) for j in range(dims)]).prod() \n",
    "#                  for e in partition[i]]).sum()\n",
    "            \n",
    "#             p_x_w[i,k] = (1/(n*h**dims))\n",
    "            \n",
    "#     return p_x_w\n",
    "\n",
    "def parzen_density_function(view, h, partition):\n",
    "    qtd_x = view.shape[0]\n",
    "    qtd_w = len(partition)\n",
    "    \n",
    "    p_x_w = np.empty((qtd_x, qtd_w))\n",
    "    dims = view.shape[1]\n",
    "    \n",
    "    for i in range(qtd_w):\n",
    "        n = len(partition[i])\n",
    "        x_view = view[partition[i],:]\n",
    "        for k in range(qtd_x):\n",
    "            diff = (view[k] - x_view)/h\n",
    "            gaussian_diff = np.exp(-(diff**2)/2)/np.sqrt(2*np.pi)\n",
    "            prod_dims = gaussian_diff.prod(axis=0)\n",
    "#             print(n*h**dims, (1/(n*h**dims)), prod_dims.sum())\n",
    "            p_x_w[k,i] = prod_dims.sum()/(n*h**dims) \n",
    "            \n",
    "    return p_x_w"
   ]
  },
  {
   "cell_type": "code",
   "execution_count": 83,
   "metadata": {},
   "outputs": [
    {
     "name": "stdout",
     "output_type": "stream",
     "text": [
      "8.105347005561658e-93\n"
     ]
    },
    {
     "ename": "OverflowError",
     "evalue": "int too large to convert to float",
     "output_type": "error",
     "traceback": [
      "\u001b[0;31m---------------------------------------------------------------------------\u001b[0m",
      "\u001b[0;31mOverflowError\u001b[0m                             Traceback (most recent call last)",
      "\u001b[0;32m<ipython-input-83-f422d59d2bd9>\u001b[0m in \u001b[0;36m<module>\u001b[0;34m\u001b[0m\n\u001b[0;32m----> 1\u001b[0;31m \u001b[0mfac_parzen_density_probs\u001b[0m \u001b[0;34m=\u001b[0m \u001b[0mparzen_density_function\u001b[0m\u001b[0;34m(\u001b[0m\u001b[0mfac\u001b[0m\u001b[0;34m,\u001b[0m \u001b[0;36m50\u001b[0m\u001b[0;34m,\u001b[0m \u001b[0mpartition\u001b[0m\u001b[0;34m)\u001b[0m\u001b[0;34m\u001b[0m\u001b[0;34m\u001b[0m\u001b[0m\n\u001b[0m\u001b[1;32m      2\u001b[0m \u001b[0mfou_parzen_density_probs\u001b[0m \u001b[0;34m=\u001b[0m \u001b[0mparzen_density_function\u001b[0m\u001b[0;34m(\u001b[0m\u001b[0mfou\u001b[0m\u001b[0;34m,\u001b[0m \u001b[0;36m50\u001b[0m\u001b[0;34m,\u001b[0m \u001b[0mpartition\u001b[0m\u001b[0;34m)\u001b[0m\u001b[0;34m\u001b[0m\u001b[0;34m\u001b[0m\u001b[0m\n\u001b[1;32m      3\u001b[0m \u001b[0mkar_parzen_density_probs\u001b[0m \u001b[0;34m=\u001b[0m \u001b[0mparzen_density_function\u001b[0m\u001b[0;34m(\u001b[0m\u001b[0mkar\u001b[0m\u001b[0;34m,\u001b[0m \u001b[0;36m50\u001b[0m\u001b[0;34m,\u001b[0m \u001b[0mpartition\u001b[0m\u001b[0;34m)\u001b[0m\u001b[0;34m\u001b[0m\u001b[0;34m\u001b[0m\u001b[0m\n",
      "\u001b[0;32m<ipython-input-82-2db3f6cc28c3>\u001b[0m in \u001b[0;36mparzen_density_function\u001b[0;34m(view, h, partition)\u001b[0m\n\u001b[1;32m     33\u001b[0m \u001b[0;31m#             print(n*h**dims, (1/(n*h**dims)), prod_dims.sum())\u001b[0m\u001b[0;34m\u001b[0m\u001b[0;34m\u001b[0m\u001b[0;34m\u001b[0m\u001b[0m\n\u001b[1;32m     34\u001b[0m             \u001b[0mprint\u001b[0m\u001b[0;34m(\u001b[0m\u001b[0mprod_dims\u001b[0m\u001b[0;34m.\u001b[0m\u001b[0msum\u001b[0m\u001b[0;34m(\u001b[0m\u001b[0;34m)\u001b[0m\u001b[0;34m)\u001b[0m\u001b[0;34m\u001b[0m\u001b[0;34m\u001b[0m\u001b[0m\n\u001b[0;32m---> 35\u001b[0;31m             \u001b[0mp_x_w\u001b[0m\u001b[0;34m[\u001b[0m\u001b[0mk\u001b[0m\u001b[0;34m,\u001b[0m\u001b[0mi\u001b[0m\u001b[0;34m]\u001b[0m \u001b[0;34m=\u001b[0m \u001b[0mprod_dims\u001b[0m\u001b[0;34m.\u001b[0m\u001b[0msum\u001b[0m\u001b[0;34m(\u001b[0m\u001b[0;34m)\u001b[0m\u001b[0;34m/\u001b[0m\u001b[0;34m(\u001b[0m\u001b[0mn\u001b[0m\u001b[0;34m*\u001b[0m\u001b[0mh\u001b[0m\u001b[0;34m**\u001b[0m\u001b[0mdims\u001b[0m\u001b[0;34m)\u001b[0m\u001b[0;34m\u001b[0m\u001b[0;34m\u001b[0m\u001b[0m\n\u001b[0m\u001b[1;32m     36\u001b[0m \u001b[0;34m\u001b[0m\u001b[0m\n\u001b[1;32m     37\u001b[0m     \u001b[0;32mreturn\u001b[0m \u001b[0mp_x_w\u001b[0m\u001b[0;34m\u001b[0m\u001b[0;34m\u001b[0m\u001b[0m\n",
      "\u001b[0;31mOverflowError\u001b[0m: int too large to convert to float"
     ]
    }
   ],
   "source": [
    "fac_parzen_density_probs = parzen_density_function(fac, 50, partition)\n",
    "fou_parzen_density_probs = parzen_density_function(fou, 50, partition)\n",
    "kar_parzen_density_probs = parzen_density_function(kar, 50, partition)"
   ]
  },
  {
   "cell_type": "code",
   "execution_count": 72,
   "metadata": {},
   "outputs": [
    {
     "data": {
      "text/plain": [
       "[array([   0,    1,    2,    3,    4,    5,    6,    7,    8,    9,   10,\n",
       "          11,   12,   13,   14,   15,   16,   17,   18,   19,   20,   21,\n",
       "          22,   23,   24,   25,   26,   27,   28,   29,   30,   31,   32,\n",
       "          33,   34,   35,   36,   37,   38,   39,   40,   41,   42,   43,\n",
       "          44,   45,   46,   47,   48,   49,   50,   51,   52,   53,   54,\n",
       "          55,   56,   57,   58,   59,   60,   61,   62,   63,   64,   65,\n",
       "          66,   67,   68,   69,   70,   71,   72,   73,   74,   75,   76,\n",
       "          77,   78,   79,   80,   81,   82,   83,   84,   85,   86,   87,\n",
       "          88,   89,   90,   91,   92,   93,   94,   95,   96,   97,   98,\n",
       "          99,  100,  102,  103,  104,  105,  106,  108,  109,  110,  111,\n",
       "         112,  113,  114,  115,  116,  117,  118,  119,  120,  121,  122,\n",
       "         123,  124,  125,  126,  127,  128,  129,  130,  131,  132,  133,\n",
       "         134,  135,  136,  137,  138,  139,  140,  141,  142,  143,  144,\n",
       "         145,  146,  147,  148,  149,  150,  151,  152,  153,  154,  155,\n",
       "         156,  157,  159,  160,  161,  162,  163,  164,  165,  166,  167,\n",
       "         168,  169,  170,  171,  172,  173,  174,  175,  176,  177,  178,\n",
       "         179,  180,  181,  182,  183,  184,  185,  186,  187,  188,  189,\n",
       "         190,  191,  192,  193,  194,  195,  196,  197,  198,  199,  815,\n",
       "         875,  980, 1000, 1018, 1031, 1036, 1058, 1070, 1112, 1127, 1137,\n",
       "        1148, 1172, 1180, 1182, 1287, 1604, 1610, 1618, 1630, 1642, 1649,\n",
       "        1665, 1666, 1678, 1679, 1684, 1687, 1688, 1694, 1704, 1718, 1724,\n",
       "        1774, 1785, 1787, 1799]),\n",
       " array([ 200,  201,  202,  203,  204,  205,  207,  208,  209,  210,  211,\n",
       "         212,  213,  215,  216,  217,  218,  220,  221,  222,  223,  224,\n",
       "         226,  227,  228,  229,  230,  231,  232,  233,  234,  235,  237,\n",
       "         238,  239,  240,  243,  244,  245,  246,  248,  249,  250,  251,\n",
       "         254,  255,  256,  257,  258,  259,  262,  263,  264,  266,  267,\n",
       "         268,  269,  270,  271,  273,  274,  275,  277,  278,  279,  280,\n",
       "         284,  285,  286,  287,  288,  289,  290,  291,  294,  295,  297,\n",
       "         298,  300,  301,  302,  303,  304,  305,  306,  309,  310,  311,\n",
       "         312,  313,  314,  316,  317,  320,  321,  323,  324,  326,  327,\n",
       "         329,  331,  334,  335,  337,  339,  340,  341,  342,  343,  344,\n",
       "         345,  346,  347,  349,  350,  351,  353,  354,  355,  356,  357,\n",
       "         358,  359,  360,  361,  362,  363,  366,  367,  368,  369,  372,\n",
       "         373,  374,  377,  378,  379,  380,  381,  382,  383,  384,  386,\n",
       "         388,  389,  391,  392,  393,  394,  396,  397,  399,  573,  602,\n",
       "         633,  656,  659,  677,  706,  743,  760,  764,  801,  803,  806,\n",
       "         809,  817,  823,  826,  828,  831,  833,  841,  846,  854,  857,\n",
       "         872,  873,  874,  888,  899,  900,  904,  905,  917,  921,  932,\n",
       "         939,  940,  943,  947,  957,  960,  962,  974,  984,  991,  997,\n",
       "        1001, 1023, 1052, 1054, 1056, 1062, 1063, 1072, 1079, 1087, 1093,\n",
       "        1139, 1141, 1175, 1191, 1195, 1220, 1222, 1242, 1249, 1253, 1264,\n",
       "        1289, 1299, 1318, 1345, 1349, 1378, 1464, 1560, 1696, 1727, 1846,\n",
       "        1884]),\n",
       " array([ 400,  401,  402,  403,  404,  405,  406,  407,  408,  409,  410,\n",
       "         411,  412,  413,  414,  415,  416,  417,  418,  419,  420,  421,\n",
       "         422,  423,  425,  426,  427,  428,  429,  430,  431,  432,  433,\n",
       "         434,  435,  436,  437,  438,  439,  440,  441,  442,  443,  444,\n",
       "         445,  446,  447,  448,  449,  450,  451,  452,  453,  454,  455,\n",
       "         456,  457,  458,  459,  460,  461,  462,  463,  464,  465,  466,\n",
       "         467,  468,  469,  470,  471,  472,  473,  474,  475,  476,  477,\n",
       "         478,  479,  480,  481,  482,  483,  484,  485,  486,  487,  488,\n",
       "         489,  490,  491,  492,  493,  494,  496,  497,  498,  499,  500,\n",
       "         501,  502,  503,  504,  505,  506,  507,  508,  509,  510,  511,\n",
       "         512,  513,  514,  515,  516,  517,  518,  519,  520,  521,  522,\n",
       "         523,  524,  525,  526,  527,  528,  529,  530,  531,  532,  533,\n",
       "         534,  535,  536,  537,  538,  539,  540,  541,  543,  544,  545,\n",
       "         546,  547,  548,  549,  550,  551,  552,  553,  554,  555,  556,\n",
       "         557,  558,  559,  560,  561,  562,  563,  564,  565,  566,  567,\n",
       "         568,  569,  570,  571,  572,  574,  575,  576,  577,  579,  580,\n",
       "         581,  582,  583,  584,  585,  586,  587,  588,  589,  590,  591,\n",
       "         592,  593,  594,  595,  596,  597,  598,  599,  647,  701,  776,\n",
       "         950,  952,  989, 1053, 1061, 1097, 1100, 1129, 1256, 1296, 1314,\n",
       "        1338, 1400, 1406, 1411, 1413, 1415, 1416, 1417, 1418, 1423, 1429,\n",
       "        1430, 1432, 1433, 1434, 1446, 1448, 1452, 1455, 1456, 1457, 1461,\n",
       "        1466, 1467, 1474, 1477, 1482, 1483, 1493, 1503, 1507, 1508, 1510,\n",
       "        1512, 1513, 1514, 1516, 1521, 1522, 1528, 1529, 1539, 1544, 1550,\n",
       "        1551, 1552, 1561, 1563, 1567, 1571, 1575, 1576, 1589, 1590, 1591,\n",
       "        1593, 1594, 1625, 1639, 1667, 1758, 1806]),\n",
       " array([ 219,  225,  241,  242,  253,  265,  276,  293,  307,  319,  322,\n",
       "         325,  332,  365,  387,  395,  495,  600,  601,  603,  604,  605,\n",
       "         606,  607,  608,  609,  611,  612,  613,  614,  615,  616,  617,\n",
       "         618,  619,  620,  621,  622,  623,  624,  625,  626,  627,  628,\n",
       "         629,  630,  631,  632,  634,  635,  636,  637,  638,  639,  640,\n",
       "         641,  642,  643,  644,  645,  646,  648,  649,  650,  651,  652,\n",
       "         653,  654,  655,  657,  658,  660,  661,  662,  663,  664,  665,\n",
       "         666,  667,  668,  669,  670,  671,  672,  673,  674,  675,  676,\n",
       "         678,  679,  680,  682,  683,  684,  685,  686,  687,  688,  689,\n",
       "         690,  691,  692,  693,  694,  695,  696,  697,  698,  699,  700,\n",
       "         702,  703,  704,  705,  707,  708,  709,  710,  711,  712,  713,\n",
       "         714,  715,  716,  717,  718,  719,  720,  721,  722,  723,  724,\n",
       "         725,  726,  727,  728,  729,  730,  731,  732,  733,  734,  735,\n",
       "         736,  737,  738,  739,  740,  741,  742,  744,  745,  746,  747,\n",
       "         748,  749,  750,  751,  752,  753,  754,  755,  756,  757,  759,\n",
       "         761,  762,  763,  765,  766,  767,  768,  769,  770,  771,  772,\n",
       "         773,  774,  775,  777,  778,  779,  780,  781,  782,  783,  784,\n",
       "         785,  786,  787,  788,  789,  791,  792,  793,  794,  795,  796,\n",
       "         797,  798,  799,  814,  816,  820,  830,  837,  839,  847,  848,\n",
       "         871,  877,  881,  891,  894,  912,  930,  949,  955,  966,  977,\n",
       "         986,  996, 1004, 1011, 1012, 1013, 1014, 1016, 1030, 1033, 1037,\n",
       "        1038, 1039, 1041, 1044, 1046, 1047, 1049, 1050, 1060, 1073, 1075,\n",
       "        1076, 1078, 1080, 1085, 1089, 1090, 1098, 1099, 1101, 1107, 1110,\n",
       "        1111, 1114, 1115, 1120, 1122, 1125, 1132, 1133, 1143, 1149, 1151,\n",
       "        1153, 1157, 1158, 1160, 1163, 1164, 1174, 1178, 1183, 1185, 1187,\n",
       "        1190, 1194, 1196, 1199, 1234, 1316, 1324, 1380, 1390, 1401, 1424,\n",
       "        1436, 1438, 1538, 1568, 1581, 1596, 1915]),\n",
       " array([ 296,  804,  805,  808,  810,  819,  824,  825,  827,  836,  842,\n",
       "         845,  851,  856,  858,  859,  861,  862,  863,  867,  868,  876,\n",
       "         893,  896,  914,  926,  928,  934,  936,  944,  945,  953,  963,\n",
       "         968,  973,  975,  976,  979,  982,  983,  994,  998, 1217, 1218,\n",
       "        1223, 1235, 1236, 1237, 1239, 1240, 1243, 1257, 1271, 1274, 1276,\n",
       "        1284, 1293, 1297, 1306, 1310, 1327, 1329, 1334, 1344, 1348, 1362,\n",
       "        1364, 1367, 1369, 1370, 1372, 1395, 1398, 1609, 1611, 1614, 1680,\n",
       "        1741, 1755, 1757, 1761]),\n",
       " array([ 887,  903,  931, 1025, 1067, 1068, 1126, 1135, 1146, 1162, 1189,\n",
       "        1198, 1233, 1241, 1263, 1280, 1281, 1290, 1320, 1396]),\n",
       " array([ 101,  758,  800,  802,  807,  811,  812,  813,  818,  821,  822,\n",
       "         829,  834,  835,  838,  840,  843,  844,  849,  850,  852,  853,\n",
       "         855,  860,  864,  865,  866,  869,  870,  878,  879,  880,  883,\n",
       "         884,  885,  886,  889,  890,  892,  895,  897,  898,  901,  902,\n",
       "         906,  907,  908,  909,  910,  911,  913,  915,  916,  918,  919,\n",
       "         920,  922,  923,  924,  925,  927,  929,  933,  935,  937,  938,\n",
       "         941,  942,  946,  948,  954,  956,  958,  959,  961,  964,  965,\n",
       "         967,  969,  970,  972,  978,  981,  985,  987,  988,  990,  992,\n",
       "         993,  995,  999, 1003, 1017, 1027, 1034, 1040, 1043, 1045, 1055,\n",
       "        1064, 1065, 1074, 1082, 1083, 1088, 1102, 1105, 1113, 1117, 1118,\n",
       "        1119, 1168, 1169, 1173, 1176, 1192, 1200, 1201, 1203, 1204, 1205,\n",
       "        1206, 1208, 1209, 1210, 1212, 1214, 1215, 1216, 1219, 1221, 1224,\n",
       "        1225, 1226, 1227, 1228, 1229, 1230, 1231, 1232, 1238, 1244, 1245,\n",
       "        1247, 1248, 1250, 1251, 1252, 1254, 1255, 1258, 1259, 1260, 1261,\n",
       "        1262, 1265, 1266, 1267, 1268, 1269, 1270, 1272, 1273, 1275, 1277,\n",
       "        1278, 1279, 1283, 1285, 1286, 1288, 1291, 1292, 1294, 1295, 1298,\n",
       "        1300, 1301, 1302, 1303, 1304, 1305, 1307, 1308, 1309, 1311, 1312,\n",
       "        1313, 1315, 1319, 1321, 1322, 1325, 1326, 1328, 1331, 1332, 1333,\n",
       "        1335, 1336, 1337, 1340, 1341, 1342, 1343, 1346, 1347, 1352, 1353,\n",
       "        1354, 1355, 1356, 1357, 1358, 1359, 1360, 1361, 1363, 1365, 1366,\n",
       "        1368, 1371, 1373, 1374, 1375, 1376, 1377, 1379, 1381, 1382, 1383,\n",
       "        1384, 1385, 1386, 1387, 1388, 1389, 1392, 1393, 1394, 1397, 1399,\n",
       "        1601, 1612, 1638, 1646, 1647, 1658, 1677, 1692, 1707, 1710, 1715,\n",
       "        1717, 1719, 1723, 1748, 1753, 1768, 1779, 1791]),\n",
       " array([ 214,  260,  261,  272,  283,  299,  308,  328,  333,  348,  364,\n",
       "         375,  376,  390,  424,  542,  578,  610,  681, 1006, 1007, 1008,\n",
       "        1010, 1015, 1019, 1022, 1024, 1028, 1029, 1032, 1066, 1069, 1077,\n",
       "        1081, 1095, 1103, 1104, 1108, 1109, 1116, 1123, 1134, 1136, 1142,\n",
       "        1144, 1147, 1154, 1161, 1170, 1177, 1184, 1186, 1193, 1207, 1402,\n",
       "        1403, 1404, 1407, 1408, 1409, 1410, 1412, 1414, 1419, 1420, 1421,\n",
       "        1422, 1425, 1426, 1427, 1428, 1431, 1435, 1439, 1440, 1441, 1442,\n",
       "        1443, 1444, 1445, 1447, 1449, 1450, 1451, 1453, 1454, 1458, 1459,\n",
       "        1460, 1462, 1463, 1465, 1468, 1469, 1471, 1472, 1473, 1475, 1478,\n",
       "        1479, 1480, 1481, 1485, 1486, 1487, 1488, 1489, 1490, 1491, 1492,\n",
       "        1494, 1495, 1496, 1497, 1498, 1499, 1500, 1501, 1502, 1504, 1505,\n",
       "        1506, 1509, 1511, 1515, 1517, 1518, 1520, 1523, 1524, 1525, 1526,\n",
       "        1527, 1530, 1531, 1532, 1533, 1534, 1535, 1536, 1537, 1540, 1541,\n",
       "        1542, 1543, 1545, 1546, 1547, 1549, 1553, 1554, 1555, 1556, 1557,\n",
       "        1558, 1559, 1562, 1564, 1565, 1566, 1569, 1570, 1572, 1573, 1574,\n",
       "        1578, 1579, 1580, 1582, 1583, 1584, 1585, 1586, 1587, 1588, 1592,\n",
       "        1597, 1598, 1599, 1729, 1800, 1801, 1803, 1804, 1805, 1808, 1810,\n",
       "        1811, 1812, 1813, 1814, 1817, 1821, 1823, 1826, 1827, 1828, 1831,\n",
       "        1834, 1836, 1837, 1840, 1841, 1843, 1844, 1845, 1847, 1850, 1851,\n",
       "        1853, 1854, 1855, 1856, 1857, 1858, 1859, 1861, 1862, 1863, 1865,\n",
       "        1866, 1867, 1869, 1873, 1875, 1878, 1881, 1882, 1887, 1888, 1890,\n",
       "        1891, 1892, 1893, 1894, 1895, 1897, 1898, 1899, 1900, 1901, 1902,\n",
       "        1903, 1904, 1906, 1908, 1910, 1911, 1916, 1920, 1922, 1923, 1924,\n",
       "        1926, 1930, 1931, 1932, 1933, 1935, 1938, 1939, 1940, 1942, 1943,\n",
       "        1944, 1946, 1948, 1950, 1952, 1953, 1955, 1956, 1957, 1958, 1959,\n",
       "        1960, 1961, 1962, 1963, 1964, 1965, 1966, 1969, 1970, 1971, 1972,\n",
       "        1973, 1974, 1975, 1976, 1977, 1979, 1980, 1981, 1983, 1985, 1986,\n",
       "        1989, 1991, 1992, 1997, 1999]),\n",
       " array([ 107,  158, 1091, 1121, 1124, 1128, 1197, 1202, 1211, 1213, 1246,\n",
       "        1282, 1317, 1323, 1339, 1350, 1351, 1391, 1600, 1602, 1603, 1605,\n",
       "        1606, 1607, 1608, 1613, 1615, 1616, 1617, 1619, 1620, 1621, 1622,\n",
       "        1623, 1624, 1626, 1627, 1628, 1629, 1631, 1632, 1633, 1634, 1635,\n",
       "        1636, 1637, 1640, 1641, 1643, 1644, 1645, 1648, 1650, 1651, 1652,\n",
       "        1653, 1654, 1655, 1656, 1657, 1659, 1660, 1661, 1662, 1663, 1664,\n",
       "        1668, 1669, 1670, 1671, 1672, 1673, 1674, 1675, 1676, 1681, 1682,\n",
       "        1683, 1685, 1686, 1689, 1690, 1691, 1693, 1695, 1697, 1698, 1700,\n",
       "        1701, 1702, 1703, 1705, 1706, 1708, 1709, 1711, 1712, 1713, 1714,\n",
       "        1716, 1720, 1721, 1722, 1725, 1726, 1728, 1730, 1731, 1732, 1733,\n",
       "        1734, 1735, 1736, 1737, 1738, 1739, 1740, 1742, 1743, 1744, 1745,\n",
       "        1746, 1747, 1749, 1750, 1751, 1752, 1754, 1756, 1759, 1760, 1762,\n",
       "        1763, 1764, 1765, 1766, 1767, 1769, 1770, 1771, 1772, 1773, 1775,\n",
       "        1776, 1777, 1778, 1780, 1781, 1782, 1783, 1784, 1786, 1788, 1789,\n",
       "        1790, 1792, 1793, 1794, 1795, 1796, 1797, 1798, 1832]),\n",
       " array([ 206,  236,  247,  252,  281,  282,  292,  315,  318,  330,  336,\n",
       "         338,  352,  370,  371,  385,  398,  790,  832,  882,  951,  971,\n",
       "        1002, 1005, 1009, 1020, 1021, 1026, 1035, 1042, 1048, 1051, 1057,\n",
       "        1059, 1071, 1084, 1086, 1092, 1094, 1096, 1106, 1130, 1131, 1138,\n",
       "        1140, 1145, 1150, 1152, 1155, 1156, 1159, 1165, 1166, 1167, 1171,\n",
       "        1179, 1181, 1188, 1330, 1405, 1437, 1470, 1476, 1484, 1519, 1548,\n",
       "        1577, 1595, 1699, 1802, 1807, 1809, 1815, 1816, 1818, 1819, 1820,\n",
       "        1822, 1824, 1825, 1829, 1830, 1833, 1835, 1838, 1839, 1842, 1848,\n",
       "        1849, 1852, 1860, 1864, 1868, 1870, 1871, 1872, 1874, 1876, 1877,\n",
       "        1879, 1880, 1883, 1885, 1886, 1889, 1896, 1905, 1907, 1909, 1912,\n",
       "        1913, 1914, 1917, 1918, 1919, 1921, 1925, 1927, 1928, 1929, 1934,\n",
       "        1936, 1937, 1941, 1945, 1947, 1949, 1951, 1954, 1967, 1968, 1978,\n",
       "        1982, 1984, 1987, 1988, 1990, 1993, 1994, 1995, 1996, 1998])]"
      ]
     },
     "execution_count": 72,
     "metadata": {},
     "output_type": "execute_result"
    }
   ],
   "source": [
    "partition"
   ]
  },
  {
   "cell_type": "code",
   "execution_count": null,
   "metadata": {},
   "outputs": [],
   "source": [
    "np.unique(fac_parzen_density_probs)"
   ]
  },
  {
   "cell_type": "markdown",
   "metadata": {},
   "source": [
    "## Probabilidade a priori"
   ]
  },
  {
   "cell_type": "code",
   "execution_count": null,
   "metadata": {},
   "outputs": [],
   "source": [
    "fac_prazen_y_pred, fac_prazen_posteriori_probs = calc_prob_posteriori(fac_parzen_density_probs, Pw)\n",
    "fou_prazen_y_pred, fou_prazen_posteriori_probs = calc_prob_posteriori(fou_parzen_density_probs, Pw)\n",
    "fou_prazen_y_pred, kar_prazen_posteriori_probs = calc_prob_posteriori(kar_parzen_density_probs, Pw)"
   ]
  },
  {
   "cell_type": "code",
   "execution_count": null,
   "metadata": {},
   "outputs": [],
   "source": [
    "y_prazen_pred_all = regra_soma_padrao(fac_prazen_posteriori_probs, \n",
    "                                    fou_prazen_posteriori_probs, \n",
    "                                    kar_prazen_posteriori_probs, Pw)"
   ]
  },
  {
   "cell_type": "code",
   "execution_count": null,
   "metadata": {},
   "outputs": [],
   "source": [
    "set(y_prazen_pred_all)"
   ]
  },
  {
   "cell_type": "code",
   "execution_count": null,
   "metadata": {},
   "outputs": [],
   "source": [
    "from sklearn.metrics import accuracy_score, f1_score\n",
    "\n",
    "y_true = clustering.get_instances_class()\n",
    "\n",
    "print(\"Acurácia: \", accuracy_score(y_true, y_prazen_pred_all))\n",
    "print(\"Medida-F: \", f1_score(y_true, y_prazen_pred_all, average=\"macro\"))"
   ]
  }
 ],
 "metadata": {
  "kernelspec": {
   "display_name": "Python 3",
   "language": "python",
   "name": "python3"
  },
  "language_info": {
   "codemirror_mode": {
    "name": "ipython",
    "version": 3
   },
   "file_extension": ".py",
   "mimetype": "text/x-python",
   "name": "python",
   "nbconvert_exporter": "python",
   "pygments_lexer": "ipython3",
   "version": "3.7.6"
  },
  "toc": {
   "base_numbering": 1,
   "nav_menu": {},
   "number_sections": true,
   "sideBar": true,
   "skip_h1_title": false,
   "title_cell": "Table of Contents",
   "title_sidebar": "Contents",
   "toc_cell": false,
   "toc_position": {
    "height": "calc(100% - 180px)",
    "left": "10px",
    "top": "150px",
    "width": "262px"
   },
   "toc_section_display": true,
   "toc_window_display": true
  }
 },
 "nbformat": 4,
 "nbformat_minor": 4
}
