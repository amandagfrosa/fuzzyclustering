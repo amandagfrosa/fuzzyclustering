{
 "cells": [
  {
   "cell_type": "markdown",
   "metadata": {},
   "source": [
    "# i) Regra da soma"
   ]
  },
  {
   "cell_type": "code",
   "execution_count": 59,
   "metadata": {},
   "outputs": [],
   "source": [
    "import os\n",
    "import numpy as np\n",
    "import pandas as pd\n",
    "import clustering"
   ]
  },
  {
   "cell_type": "markdown",
   "metadata": {},
   "source": [
    "## Datasets"
   ]
  },
  {
   "cell_type": "code",
   "execution_count": 60,
   "metadata": {},
   "outputs": [],
   "source": [
    "DATA_BASE_PATH = \"./data\"\n",
    "\n",
    "FAC_FILE = os.path.join(DATA_BASE_PATH, \"mfeat-fac\")\n",
    "FOU_FILE = os.path.join(DATA_BASE_PATH, \"mfeat-fou\")\n",
    "KAR_FILE = os.path.join(DATA_BASE_PATH, \"mfeat-kar\")\n",
    "\n",
    "fac = np.loadtxt(FAC_FILE, dtype=int)\n",
    "fou = np.loadtxt(FOU_FILE, dtype=float)\n",
    "kar = np.loadtxt(KAR_FILE, dtype=float)"
   ]
  },
  {
   "cell_type": "markdown",
   "metadata": {},
   "source": [
    "## Importando melhor resultado"
   ]
  },
  {
   "cell_type": "code",
   "execution_count": 61,
   "metadata": {},
   "outputs": [],
   "source": [
    "best_result = clustering.import_best_result(\"data/melhor_resultado_todas.pickle\")\n",
    "partition, _ = clustering.get_hard_patitions(best_result[\"membership_degree\"])\n"
   ]
  },
  {
   "cell_type": "markdown",
   "metadata": {},
   "source": [
    "## Probabilidade à priori das classes"
   ]
  },
  {
   "cell_type": "code",
   "execution_count": 62,
   "metadata": {},
   "outputs": [
    {
     "data": {
      "text/plain": [
       "(array([0.1175, 0.116 , 0.1355, 0.1465, 0.0405, 0.01  , 0.1305, 0.151 ,\n",
       "        0.0815, 0.071 ]),\n",
       " 1.0)"
      ]
     },
     "execution_count": 62,
     "metadata": {},
     "output_type": "execute_result"
    }
   ],
   "source": [
    "Pw = np.array([len(c)/2000 for c in partition])\n",
    "Pw, Pw.sum()"
   ]
  },
  {
   "cell_type": "code",
   "execution_count": 63,
   "metadata": {},
   "outputs": [],
   "source": [
    "for i, idxs in enumerate(partition):\n",
    "    pd.DataFrame(fac[idxs]).to_csv(f\"data/fac{i}.csv\",decimal=\",\", index=False, header=False)"
   ]
  },
  {
   "cell_type": "code",
   "execution_count": 64,
   "metadata": {},
   "outputs": [],
   "source": [
    "pd.DataFrame(partition).to_csv(f\"data/partition.csv\",decimal=\",\", index=False, header=False)"
   ]
  },
  {
   "cell_type": "markdown",
   "metadata": {},
   "source": [
    "## Probabilidade à priori dos exemplos"
   ]
  },
  {
   "cell_type": "code",
   "execution_count": 65,
   "metadata": {},
   "outputs": [],
   "source": [
    "def calc_p_x_w(xk, d, means, var, cov_matrix):\n",
    "    coef = np.power(2*np.pi, -d/2) \n",
    "#     print(cov_matrix)\n",
    "    inv_cov_matrix = np.linalg.inv(cov_matrix)\n",
    "    (sign, logdet) = np.linalg.slogdet(inv_cov_matrix)\n",
    "    sqrt_det_inv_cov = np.sqrt(sign*np.exp(logdet))\n",
    "    diff = xk - means\n",
    "    exp_exp = np.dot((-1/2)*np.dot(diff.T, inv_cov_matrix), diff)\n",
    "    exp_func = np.exp(exp_exp)\n",
    "    \n",
    "    return coef * sqrt_det_inv_cov * exp_func\n",
    "\n",
    "# def calc_p_x_w(xk, d, means, var, cov_matrix):\n",
    "#     coef = math.pow(2*math.pi, d/2) \n",
    "#     inv_cov_matrix = np.linalg.inv(cov_matrix)\n",
    "#     det_inv =  np.linalg.det(inv_cov_matrix)\n",
    "#     diff = xk - means\n",
    "#     exp_exp = np.dot(np.dot((-1/2)*(diff.T), inv_cov_matrix), diff)\n",
    "#     exp_func = np.exp(exp_exp)\n",
    "    \n",
    "#     return exp_func/(coef * math.pow(det_inv, 1/2))\n",
    "\n",
    "def calc_gaussian_bayesian_data(x, partition):\n",
    "    n,d = x.shape\n",
    "    qtd_w = len(partition)\n",
    "    means = np.array([x[idxs].mean(axis=0) for idxs in partition])\n",
    "    var = np.array([((x[idxs]-means[i])**2).mean(axis=0) for i, idxs in enumerate(partition)])\n",
    "    cov_matrix = [np.zeros((d,d)) for _ in range(qtd_w)]\n",
    "\n",
    "    for i in range(qtd_w):\n",
    "        np.fill_diagonal(cov_matrix[i], var[i])\n",
    "                \n",
    "    p_x_w = np.empty((n, qtd_w))\n",
    "    \n",
    "    for i in range(qtd_w):\n",
    "        for k in range(n):\n",
    "            p_x_w[k, i] = calc_p_x_w(x[k], d, means[i], var[i], cov_matrix[i])   \n",
    "    \n",
    "    return p_x_w\n",
    "\n",
    "def calc_prob_posteriori(p_x_w, Pw):\n",
    "    p_w_x = np.empty((10, 2000))\n",
    "    \n",
    "    for i in range(10):\n",
    "        for k in range(2000):\n",
    "            sum_all = np.dot(p_x_w[k], Pw)\n",
    "            p_w_x[i,k] = (p_x_w[k, i] * Pw[i])/sum_all\n",
    "    \n",
    "    y_pred = p_w_x.argmax(axis = 0)\n",
    "    return y_pred, p_w_x\n"
   ]
  },
  {
   "cell_type": "markdown",
   "metadata": {},
   "source": [
    "## Densidades por dataset"
   ]
  },
  {
   "cell_type": "code",
   "execution_count": 66,
   "metadata": {},
   "outputs": [],
   "source": [
    "fac_p_x_w = calc_gaussian_bayesian_data(fac, partition)\n",
    "fou_p_x_w = calc_gaussian_bayesian_data(fou, partition)\n",
    "kar_p_x_w = calc_gaussian_bayesian_data(kar, partition)"
   ]
  },
  {
   "cell_type": "code",
   "execution_count": 67,
   "metadata": {},
   "outputs": [
    {
     "data": {
      "text/plain": [
       "(0.0, 3.243154665015897e+60, 7.254547591145725e-49)"
      ]
     },
     "execution_count": 67,
     "metadata": {},
     "output_type": "execute_result"
    }
   ],
   "source": [
    "fac_p_x_w[0,0], fou_p_x_w[0,0], kar_p_x_w[0,0]"
   ]
  },
  {
   "cell_type": "markdown",
   "metadata": {},
   "source": [
    "## Classificação dos exemplos por view"
   ]
  },
  {
   "cell_type": "code",
   "execution_count": 68,
   "metadata": {},
   "outputs": [
    {
     "name": "stderr",
     "output_type": "stream",
     "text": [
      "/home/thiago/.anaconda3/envs/fuzzy/lib/python3.6/site-packages/ipykernel_launcher.py:47: RuntimeWarning: invalid value encountered in double_scalars\n"
     ]
    }
   ],
   "source": [
    "fac_y_pred, fac_p_w_x = calc_prob_posteriori(fac_p_x_w, Pw)\n",
    "fou_y_pred, fou_p_w_x = calc_prob_posteriori(fou_p_x_w, Pw)\n",
    "kar_y_pred, kar_p_w_x = calc_prob_posteriori(kar_p_x_w, Pw)\n"
   ]
  },
  {
   "cell_type": "markdown",
   "metadata": {},
   "source": [
    "## Classificador combinado com a regra da soma\n",
    "\n",
    "Precisei tirar o fac porque seus valores são nulos. TENTAR CORRIGIR ISSO"
   ]
  },
  {
   "cell_type": "code",
   "execution_count": 69,
   "metadata": {},
   "outputs": [],
   "source": [
    "def regra_soma_simples(fac_p_w_x, fou_p_w_x, kar_p_w_x, Pw):\n",
    "    x_sum_w = np.empty((10, 2000))\n",
    "    \n",
    "    for i in range(10):\n",
    "        for k in range(2000):\n",
    "            views_sum =  fou_p_w_x[i,k] + kar_p_w_x[i,k]\n",
    "            # views_sum =  fac_p_w_x[i,k] fou_p_w_x[i,k] + kar_p_w_x[i,k]\n",
    "            x_sum_w[i,k] = (1-3)*Pw[i] + views_sum\n",
    "            \n",
    "    y_pred = x_sum_w.argmax(axis = 0) \n",
    "    return y_pred"
   ]
  },
  {
   "cell_type": "code",
   "execution_count": 75,
   "metadata": {},
   "outputs": [],
   "source": [
    "y_pred_all = regra_soma_simples(fac_p_w_x, fou_p_w_x, kar_p_w_x, Pw)"
   ]
  },
  {
   "cell_type": "code",
   "execution_count": 76,
   "metadata": {},
   "outputs": [
    {
     "name": "stdout",
     "output_type": "stream",
     "text": [
      "Acurácia:  0.672\n",
      "Medida-F:  0.6560764324030204\n"
     ]
    }
   ],
   "source": [
    "from sklearn.metrics import accuracy_score, f1_score\n",
    "\n",
    "y_true = clustering.get_instances_class()\n",
    "\n",
    "print(\"Acurácia: \", accuracy_score(y_true, y_pred_all))\n",
    "print(\"Medida-F: \", f1_score(y_true, y_pred_all, average=\"macro\"))"
   ]
  },
  {
   "cell_type": "markdown",
   "metadata": {},
   "source": [
    "# K-Vizinhos"
   ]
  },
  {
   "cell_type": "markdown",
   "metadata": {},
   "source": [
    "## Normalizando \n"
   ]
  },
  {
   "cell_type": "code",
   "execution_count": 77,
   "metadata": {},
   "outputs": [],
   "source": [
    "from sklearn.preprocessing import minmax_scale\n",
    "\n",
    "fac_norm = minmax_scale(fac, copy=False)\n",
    "fou_norm = minmax_scale(fou, copy=False)\n",
    "kar_norm = minmax_scale(kar, copy=False)"
   ]
  },
  {
   "cell_type": "markdown",
   "metadata": {},
   "source": [
    "## Distâncias entre os elementos"
   ]
  },
  {
   "cell_type": "code",
   "execution_count": 173,
   "metadata": {},
   "outputs": [],
   "source": [
    "from sklearn.metrics.pairwise import euclidean_distances\n",
    "\n",
    "fac_dist = euclidean_distances(fac_norm, fac_norm)\n",
    "fou_dist = euclidean_distances(fou_norm, fou_norm)\n",
    "kar_dist = euclidean_distances(kar_norm, kar_norm)"
   ]
  },
  {
   "cell_type": "code",
   "execution_count": 182,
   "metadata": {},
   "outputs": [],
   "source": [
    "def calc_prob_posteriori_kvizinhos(view_dists, k, Pw, V):\n",
    "    p_w_x = np.empty((10, 2000))\n",
    "    k_vizinhos = np.empty((2000, k))\n",
    "    kvizihos_temp = view_dists.argsort(axis=1)[:,:k+1]\n",
    "    \n",
    "    for i in range(2000):\n",
    "        k_vizinhos[i,:] = np.delete(kvizihos_temp[i], 0)\n",
    "    \n",
    "    del kvizihos_temp\n",
    "    \n",
    "    for i in range(10):\n",
    "        for j in range(2000):\n",
    "            #p_w_x[i,j] = (((k_vizinhos[j] == i).sum()/len(partition[i]))/V)*Pw[i]\n",
    "            p_w_x[i,j] = (k_vizinhos[j] == i).sum()/k\n",
    "                \n",
    "    y_pred = p_w_x.argmax(axis = 0)\n",
    "    \n",
    "    \n",
    "    return y_pred, p_w_x\n",
    "    "
   ]
  },
  {
   "cell_type": "code",
   "execution_count": 183,
   "metadata": {},
   "outputs": [],
   "source": [
    "_, fac_knn_p_w_x = calc_prob_posteriori_kvizinhos(fac_dist, 10, Pw, 1)\n",
    "_, fou_knn_p_w_x = calc_prob_posteriori_kvizinhos(fou_dist, 10, Pw, 1)\n",
    "_, kar_knn_p_w_x = calc_prob_posteriori_kvizinhos(kar_dist, 10, Pw, 1)"
   ]
  },
  {
   "cell_type": "code",
   "execution_count": 187,
   "metadata": {},
   "outputs": [],
   "source": [
    "pd.DataFrame(fac_knn_p_w_x).to_csv(f\"data/fac_knn_p_w_x.csv\",decimal=\",\", index=False, header=False)"
   ]
  },
  {
   "cell_type": "markdown",
   "metadata": {},
   "source": [
    "## Regra da soma"
   ]
  },
  {
   "cell_type": "code",
   "execution_count": 188,
   "metadata": {},
   "outputs": [],
   "source": [
    "def regra_soma_knn(fac_p_w_x, fou_p_w_x, kar_p_w_x, Pw):\n",
    "    x_sum_w = np.empty((10, 2000))\n",
    "    \n",
    "    for i in range(10):\n",
    "        for k in range(2000):\n",
    "            #views_sum =  fou_p_w_x[i,k] + kar_p_w_x[i,k]\n",
    "            views_sum =  fac_p_w_x[i,k] + fou_p_w_x[i,k] + kar_p_w_x[i,k]\n",
    "            x_sum_w[i,k] = (1-3)*Pw[i] + views_sum\n",
    "            \n",
    "    y_pred = x_sum_w.argmax(axis = 0) \n",
    "    return y_pred"
   ]
  },
  {
   "cell_type": "code",
   "execution_count": 189,
   "metadata": {},
   "outputs": [],
   "source": [
    "y_pred_knn_all = regra_soma_knn(fac_knn_p_w_x, fou_knn_p_w_x, kar_knn_p_w_x, Pw)"
   ]
  },
  {
   "cell_type": "code",
   "execution_count": 190,
   "metadata": {},
   "outputs": [
    {
     "name": "stdout",
     "output_type": "stream",
     "text": [
      "Acurácia:  0.1\n",
      "Medida-F:  0.01851851851851852\n"
     ]
    }
   ],
   "source": [
    "print(\"Acurácia: \", accuracy_score(y_true, y_pred_knn_all))\n",
    "print(\"Medida-F: \", f1_score(y_true, y_pred_knn_all, average=\"macro\"))"
   ]
  }
 ],
 "metadata": {
  "kernelspec": {
   "display_name": "Python 3",
   "language": "python",
   "name": "python3"
  },
  "language_info": {
   "codemirror_mode": {
    "name": "ipython",
    "version": 3
   },
   "file_extension": ".py",
   "mimetype": "text/x-python",
   "name": "python",
   "nbconvert_exporter": "python",
   "pygments_lexer": "ipython3",
   "version": "3.6.10"
  },
  "toc": {
   "base_numbering": 1,
   "nav_menu": {},
   "number_sections": true,
   "sideBar": true,
   "skip_h1_title": false,
   "title_cell": "Table of Contents",
   "title_sidebar": "Contents",
   "toc_cell": false,
   "toc_position": {},
   "toc_section_display": true,
   "toc_window_display": true
  }
 },
 "nbformat": 4,
 "nbformat_minor": 4
}
