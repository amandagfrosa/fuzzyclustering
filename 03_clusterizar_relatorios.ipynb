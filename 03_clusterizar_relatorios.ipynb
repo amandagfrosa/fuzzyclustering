{
 "cells": [
  {
   "cell_type": "markdown",
   "metadata": {},
   "source": [
    "## Imports"
   ]
  },
  {
   "cell_type": "code",
   "execution_count": 55,
   "metadata": {},
   "outputs": [],
   "source": [
    "from sklearn.metrics import f1_score\n",
    "from sklearn.metrics import accuracy_score\n",
    "\n",
    "import clustering"
   ]
  },
  {
   "cell_type": "markdown",
   "metadata": {},
   "source": [
    "## Importando resultados"
   ]
  },
  {
   "cell_type": "code",
   "execution_count": 56,
   "metadata": {},
   "outputs": [],
   "source": [
    "# fac_result = clustering.import_best_result(\"data/melhor_resultado_fac.pickle\")\n",
    "# fou_result = clustering.import_best_result(\"data/melhor_resultado_fou.pickle\")\n",
    "# kar_result = clustering.import_best_result(\"data/melhor_resultado_kar.pickle\")\n",
    "todas_result = clustering.import_best_result(\"data/melhor_resultado_todas.pickle\")\n",
    "\n",
    "\n",
    "# fac_fuzzy = clustering.import_fuzzy_partitions_from_csv(\"data/fuzzy_partitions_fac.csv\")\n",
    "# fou_fuzzy = clustering.import_fuzzy_partitions_from_csv(\"data/fuzzy_partitions_fou.csv\")\n",
    "# kar_fuzzy = clustering.import_fuzzy_partitions_from_csv(\"data/fuzzy_partitions_kar.csv\")\n",
    "todas_fuzzy = clustering.import_fuzzy_partitions_from_csv(\"data/fuzzy_partitions_todas.csv\")"
   ]
  },
  {
   "cell_type": "code",
   "execution_count": 57,
   "metadata": {},
   "outputs": [
    {
     "data": {
      "text/plain": [
       "10"
      ]
     },
     "execution_count": 57,
     "metadata": {},
     "output_type": "execute_result"
    }
   ],
   "source": [
    "todas_result[\"times\"]"
   ]
  },
  {
   "cell_type": "markdown",
   "metadata": {},
   "source": [
    "## Melhores resultados"
   ]
  },
  {
   "cell_type": "code",
   "execution_count": 58,
   "metadata": {},
   "outputs": [
    {
     "name": "stdout",
     "output_type": "stream",
     "text": [
      "Melhor custo com as três matrizes 19120.682796614463\n"
     ]
    }
   ],
   "source": [
    "# print(\"Melhor custo pro fac\", fac_result[\"cost\"])\n",
    "# print(\"Melhor custo pro fou\", fou_result[\"cost\"])\n",
    "# print(\"Melhor custo pro kar\", kar_result[\"cost\"])\n",
    "print(\"Melhor custo com as três matrizes\", todas_result[\"cost\"])"
   ]
  },
  {
   "cell_type": "markdown",
   "metadata": {},
   "source": [
    "### Modified partition coefficient"
   ]
  },
  {
   "cell_type": "code",
   "execution_count": 59,
   "metadata": {},
   "outputs": [
    {
     "name": "stdout",
     "output_type": "stream",
     "text": [
      ">> TODAS (VIEW0) 0.4256651153888448\n"
     ]
    }
   ],
   "source": [
    "# print('>> FAC (VIEW1)', clustering.calc_modified_partition_coefficient(fac_result[\"membership_degree\"]))\n",
    "# print('>> FOU (VIEW2)', clustering.calc_modified_partition_coefficient(fou_result[\"membership_degree\"]))\n",
    "# print('>> KAR (VIEW3)', clustering.calc_modified_partition_coefficient(kar_result[\"membership_degree\"]))\n",
    "print('>> TODAS (VIEW0)', clustering.calc_modified_partition_coefficient(todas_result[\"membership_degree\"]))"
   ]
  },
  {
   "cell_type": "markdown",
   "metadata": {},
   "source": [
    "### Entropy"
   ]
  },
  {
   "cell_type": "code",
   "execution_count": 60,
   "metadata": {},
   "outputs": [
    {
     "name": "stdout",
     "output_type": "stream",
     "text": [
      ">> TODAS (VIEW0) 0.5255572845902869\n"
     ]
    }
   ],
   "source": [
    "# print('>> FAC (VIEW1)', clustering.calc_partition_entropy(fac_result[\"membership_degree\"]))\n",
    "# print('>> FOU (VIEW2)', clustering.calc_partition_entropy(fou_result[\"membership_degree\"]))\n",
    "# print('>> KAR (VIEW3)', clustering.calc_partition_entropy(kar_result[\"membership_degree\"]))\n",
    "print('>> TODAS (VIEW0)', clustering.calc_partition_entropy(todas_result[\"membership_degree\"]))"
   ]
  },
  {
   "cell_type": "markdown",
   "metadata": {},
   "source": [
    "### Partições crisp"
   ]
  },
  {
   "cell_type": "code",
   "execution_count": 61,
   "metadata": {},
   "outputs": [],
   "source": [
    "from itertools import chain\n",
    "\n",
    "classses = clustering.get_instances_class(10)"
   ]
  },
  {
   "cell_type": "markdown",
   "metadata": {},
   "source": [
    "### Adjusted Rand Index"
   ]
  },
  {
   "cell_type": "code",
   "execution_count": 62,
   "metadata": {},
   "outputs": [
    {
     "name": "stdout",
     "output_type": "stream",
     "text": [
      ">> TODAS (VIEW0) 0.5985709249366051\n"
     ]
    }
   ],
   "source": [
    "from sklearn.metrics import adjusted_rand_score\n",
    "\n",
    "# fac_crisp, fac_classes = clustering.get_hard_patitions(fac_result[\"membership_degree\"])\n",
    "# fou_crisp, fou_classes = clustering.get_hard_patitions(fou_result[\"membership_degree\"])\n",
    "# kar_crisp, kar_classes = clustering.get_hard_patitions(fou_result[\"membership_degree\"])\n",
    "todas_crisp, todas_classes = clustering.get_hard_patitions(todas_result[\"membership_degree\"])\n",
    "\n",
    "# print('>> FAC (VIEW1)', adjusted_rand_score(fac_classes, classses))\n",
    "# print('>> FOU (VIEW2)', adjusted_rand_score(fou_classes, classses))\n",
    "# print('>> KAR (VIEW3)', adjusted_rand_score(kar_classes, classses))\n",
    "print('>> TODAS (VIEW0)', adjusted_rand_score(todas_classes, classses))"
   ]
  },
  {
   "cell_type": "markdown",
   "metadata": {},
   "source": [
    "### F-measure"
   ]
  },
  {
   "cell_type": "code",
   "execution_count": 63,
   "metadata": {},
   "outputs": [
    {
     "name": "stdout",
     "output_type": "stream",
     "text": [
      ">> TODAS (VIEW0) 0.4144999999999999\n"
     ]
    }
   ],
   "source": [
    "# print('>> FAC (VIEW1)', f1_score(fac_classes, classses, average=\"micro\"))\n",
    "# print('>> FOU (VIEW2)', f1_score(fou_classes, classses, average=\"micro\"))\n",
    "# print('>> KAR (VIEW3)', f1_score(kar_classes, classses, average=\"micro\"))\n",
    "print('>> TODAS (VIEW0)', f1_score(todas_classes, classses, average=\"micro\"))"
   ]
  },
  {
   "cell_type": "markdown",
   "metadata": {},
   "source": [
    "### Erro de classificação"
   ]
  },
  {
   "cell_type": "code",
   "execution_count": 64,
   "metadata": {},
   "outputs": [
    {
     "name": "stdout",
     "output_type": "stream",
     "text": [
      ">> TODAS (VIEW0) 0.5855\n"
     ]
    }
   ],
   "source": [
    "# print('>> FAC (VIEW1)', 1 - accuracy_score(fac_classes, classses))\n",
    "# print('>> FOU (VIEW2)', 1 - accuracy_score(fou_classes, classses))\n",
    "# print('>> KAR (VIEW3)', 1 - accuracy_score(kar_classes, classses))\n",
    "print('>> TODAS (VIEW0)', 1 - accuracy_score(todas_classes, classses))"
   ]
  },
  {
   "cell_type": "markdown",
   "metadata": {},
   "source": [
    "## Melhor resultado"
   ]
  },
  {
   "cell_type": "code",
   "execution_count": 65,
   "metadata": {},
   "outputs": [
    {
     "ename": "NameError",
     "evalue": "name 'fac_result' is not defined",
     "output_type": "error",
     "traceback": [
      "\u001b[0;31m---------------------------------------------------------------------------\u001b[0m",
      "\u001b[0;31mNameError\u001b[0m                                 Traceback (most recent call last)",
      "\u001b[0;32m<ipython-input-65-0f2b6d2419f9>\u001b[0m in \u001b[0;36m<module>\u001b[0;34m\u001b[0m\n\u001b[0;32m----> 1\u001b[0;31m \u001b[0mfac_result\u001b[0m\u001b[0;34m[\u001b[0m\u001b[0;34m\"name\"\u001b[0m\u001b[0;34m]\u001b[0m \u001b[0;34m=\u001b[0m \u001b[0;34m\"fac\"\u001b[0m\u001b[0;34m\u001b[0m\u001b[0;34m\u001b[0m\u001b[0m\n\u001b[0m\u001b[1;32m      2\u001b[0m \u001b[0mfou_result\u001b[0m\u001b[0;34m[\u001b[0m\u001b[0;34m\"name\"\u001b[0m\u001b[0;34m]\u001b[0m \u001b[0;34m=\u001b[0m \u001b[0;34m\"fou\"\u001b[0m\u001b[0;34m\u001b[0m\u001b[0;34m\u001b[0m\u001b[0m\n\u001b[1;32m      3\u001b[0m \u001b[0mkar_result\u001b[0m\u001b[0;34m[\u001b[0m\u001b[0;34m\"name\"\u001b[0m\u001b[0;34m]\u001b[0m \u001b[0;34m=\u001b[0m \u001b[0;34m\"kar\"\u001b[0m\u001b[0;34m\u001b[0m\u001b[0;34m\u001b[0m\u001b[0m\n\u001b[1;32m      4\u001b[0m \u001b[0mtodas_result\u001b[0m\u001b[0;34m[\u001b[0m\u001b[0;34m\"name\"\u001b[0m\u001b[0;34m]\u001b[0m \u001b[0;34m=\u001b[0m \u001b[0;34m\"todas\"\u001b[0m\u001b[0;34m\u001b[0m\u001b[0;34m\u001b[0m\u001b[0m\n\u001b[1;32m      5\u001b[0m \u001b[0;34m\u001b[0m\u001b[0m\n",
      "\u001b[0;31mNameError\u001b[0m: name 'fac_result' is not defined"
     ]
    }
   ],
   "source": [
    "fac_result[\"name\"] = \"fac\"\n",
    "fou_result[\"name\"] = \"fou\"\n",
    "kar_result[\"name\"] = \"kar\" \n",
    "todas_result[\"name\"] = \"todas\"\n",
    "\n",
    "melhor_resultado = min(fac_result, fou_result, kar_result, todas_result, key=lambda d:d[\"cost\"])\n",
    "print(\"Melhore resultado: \", melhor_resultado[\"name\"])"
   ]
  },
  {
   "cell_type": "markdown",
   "metadata": {},
   "source": [
    "### Prototipos"
   ]
  },
  {
   "cell_type": "code",
   "execution_count": null,
   "metadata": {},
   "outputs": [],
   "source": [
    "{i:p for i,p in enumerate(melhor_resultado[\"prototypes\"])}"
   ]
  },
  {
   "cell_type": "markdown",
   "metadata": {},
   "source": [
    "### Parições crisp"
   ]
  },
  {
   "cell_type": "code",
   "execution_count": null,
   "metadata": {},
   "outputs": [],
   "source": [
    "membership_degree = melhor_resultado[\"membership_degree\"]\n",
    "melhor_hard, melhor_classes = clustering.get_hard_patitions(membership_degree)\n",
    "\n",
    "for number, group in enumerate(melhor_hard):\n",
    "    print(\"Grupo: \", number, \"Elementos: \", group, \"Quantidade: \", len(group))\n",
    "\n",
    "print(\"Total de elementos somados:\",  sum([len(g) for g in melhor_hard]))"
   ]
  },
  {
   "cell_type": "markdown",
   "metadata": {},
   "source": [
    "###  Modified partition coefficient"
   ]
  },
  {
   "cell_type": "code",
   "execution_count": null,
   "metadata": {},
   "outputs": [],
   "source": [
    "print('>> ', clustering.calc_modified_partition_coefficient(melhor_resultado[\"membership_degree\"]))"
   ]
  },
  {
   "cell_type": "markdown",
   "metadata": {},
   "source": [
    "### Adjusted Rand Index"
   ]
  },
  {
   "cell_type": "code",
   "execution_count": null,
   "metadata": {},
   "outputs": [],
   "source": [
    "print('>> ', adjusted_rand_score(fac_classes, classses))"
   ]
  },
  {
   "cell_type": "markdown",
   "metadata": {},
   "source": [
    "### F-measure"
   ]
  },
  {
   "cell_type": "code",
   "execution_count": null,
   "metadata": {},
   "outputs": [],
   "source": [
    "print('>> ', f1_score(melhor_classes, classses, average=\"micro\"))"
   ]
  },
  {
   "cell_type": "markdown",
   "metadata": {},
   "source": [
    "### Erro de classificação"
   ]
  },
  {
   "cell_type": "code",
   "execution_count": null,
   "metadata": {},
   "outputs": [],
   "source": [
    "print('>> ', 1 - accuracy_score(melhor_classes, classses))"
   ]
  }
 ],
 "metadata": {
  "colab": {
   "collapsed_sections": [],
   "name": "02_clusterizar_lazy_version.ipynb",
   "provenance": [],
   "toc_visible": true
  },
  "kernelspec": {
   "display_name": "Python 3",
   "language": "python",
   "name": "python3"
  },
  "language_info": {
   "codemirror_mode": {
    "name": "ipython",
    "version": 3
   },
   "file_extension": ".py",
   "mimetype": "text/x-python",
   "name": "python",
   "nbconvert_exporter": "python",
   "pygments_lexer": "ipython3",
   "version": "3.6.10"
  },
  "toc": {
   "base_numbering": 1,
   "nav_menu": {},
   "number_sections": true,
   "sideBar": true,
   "skip_h1_title": false,
   "title_cell": "Table of Contents",
   "title_sidebar": "Contents",
   "toc_cell": false,
   "toc_position": {
    "height": "calc(100% - 180px)",
    "left": "10px",
    "top": "150px",
    "width": "239px"
   },
   "toc_section_display": true,
   "toc_window_display": true
  }
 },
 "nbformat": 4,
 "nbformat_minor": 1
}
