{
 "cells": [
  {
   "cell_type": "markdown",
   "metadata": {},
   "source": [
    "## Imports"
   ]
  },
  {
   "cell_type": "code",
   "execution_count": 21,
   "metadata": {},
   "outputs": [],
   "source": [
    "from sklearn.metrics import f1_score\n",
    "from sklearn.metrics import accuracy_score\n",
    "\n",
    "import clustering"
   ]
  },
  {
   "cell_type": "markdown",
   "metadata": {},
   "source": [
    "## Importando resultados"
   ]
  },
  {
   "cell_type": "code",
   "execution_count": 22,
   "metadata": {},
   "outputs": [],
   "source": [
    "fac_result = clustering.import_best_result(\"data/melhor_resultado_fac.pickle\")\n",
    "fou_result = clustering.import_best_result(\"data/melhor_resultado_fou.pickle\")\n",
    "kar_result = clustering.import_best_result(\"data/melhor_resultado_kar.pickle\")\n",
    "todas_result = clustering.import_best_result(\"data/melhor_resultado_todas.pickle\")\n",
    "\n",
    "\n",
    "fac_fuzzy = clustering.import_fuzzy_partitions_from_csv(\"data/fuzzy_partitions_fac.csv\")\n",
    "fou_fuzzy = clustering.import_fuzzy_partitions_from_csv(\"data/fuzzy_partitions_fou.csv\")\n",
    "kar_fuzzy = clustering.import_fuzzy_partitions_from_csv(\"data/fuzzy_partitions_kar.csv\")\n",
    "todas_fuzzy = clustering.import_fuzzy_partitions_from_csv(\"data/fuzzy_partitions_todas.csv\")"
   ]
  },
  {
   "cell_type": "code",
   "execution_count": 23,
   "metadata": {},
   "outputs": [
    {
     "data": {
      "text/plain": [
       "7"
      ]
     },
     "execution_count": 23,
     "metadata": {},
     "output_type": "execute_result"
    }
   ],
   "source": [
    "todas_result[\"times\"]"
   ]
  },
  {
   "cell_type": "markdown",
   "metadata": {},
   "source": [
    "## Melhores resultados"
   ]
  },
  {
   "cell_type": "code",
   "execution_count": 24,
   "metadata": {},
   "outputs": [
    {
     "name": "stdout",
     "output_type": "stream",
     "text": [
      "Melhor custo pro fac 3391.711503077616\n",
      "Melhor custo pro fou 1800.7496330783467\n",
      "Melhor custo pro kar 1518.7438733671443\n",
      "Melhor custo com as três matrizes 6652.582133185385\n"
     ]
    }
   ],
   "source": [
    "print(\"Melhor custo pro fac\", fac_result[\"cost\"])\n",
    "print(\"Melhor custo pro fou\", fou_result[\"cost\"])\n",
    "print(\"Melhor custo pro kar\", kar_result[\"cost\"])\n",
    "print(\"Melhor custo com as três matrizes\", todas_result[\"cost\"])"
   ]
  },
  {
   "cell_type": "markdown",
   "metadata": {},
   "source": [
    "### Modified partition coefficient"
   ]
  },
  {
   "cell_type": "code",
   "execution_count": 25,
   "metadata": {},
   "outputs": [
    {
     "name": "stdout",
     "output_type": "stream",
     "text": [
      ">> FAC (VIEW1) 0.015491264466089838\n",
      ">> FOU (VIEW2) 0.00036540295937559364\n",
      ">> KAR (VIEW3) 0.0001937099152655719\n",
      ">> TODAS (VIEW0) 0.005549615119655127\n"
     ]
    }
   ],
   "source": [
    "print('>> FAC (VIEW1)', clustering.calc_modified_partition_coefficient(fac_result[\"membership_degree\"]))\n",
    "print('>> FOU (VIEW2)', clustering.calc_modified_partition_coefficient(fou_result[\"membership_degree\"]))\n",
    "print('>> KAR (VIEW3)', clustering.calc_modified_partition_coefficient(kar_result[\"membership_degree\"]))\n",
    "print('>> TODAS (VIEW0)', clustering.calc_modified_partition_coefficient(todas_result[\"membership_degree\"]))"
   ]
  },
  {
   "cell_type": "markdown",
   "metadata": {},
   "source": [
    "### Entropy"
   ]
  },
  {
   "cell_type": "code",
   "execution_count": 26,
   "metadata": {},
   "outputs": [
    {
     "name": "stdout",
     "output_type": "stream",
     "text": [
      ">> FAC (VIEW1) 0.9737080953532687\n",
      ">> FOU (VIEW2) 0.9993105091578849\n",
      ">> KAR (VIEW3) 0.9996226413017205\n",
      ">> TODAS (VIEW0) 0.990670253776116\n"
     ]
    }
   ],
   "source": [
    "print('>> FAC (VIEW1)', clustering.calc_partition_entropy(fac_result[\"membership_degree\"]))\n",
    "print('>> FOU (VIEW2)', clustering.calc_partition_entropy(fou_result[\"membership_degree\"]))\n",
    "print('>> KAR (VIEW3)', clustering.calc_partition_entropy(kar_result[\"membership_degree\"]))\n",
    "print('>> TODAS (VIEW0)', clustering.calc_partition_entropy(todas_result[\"membership_degree\"]))"
   ]
  },
  {
   "cell_type": "markdown",
   "metadata": {},
   "source": [
    "### Partições crisp"
   ]
  },
  {
   "cell_type": "code",
   "execution_count": 27,
   "metadata": {},
   "outputs": [],
   "source": [
    "from itertools import chain\n",
    "\n",
    "classses = clustering.get_instances_class()"
   ]
  },
  {
   "cell_type": "markdown",
   "metadata": {},
   "source": [
    "### Adjusted Rand Index"
   ]
  },
  {
   "cell_type": "code",
   "execution_count": 28,
   "metadata": {},
   "outputs": [
    {
     "name": "stdout",
     "output_type": "stream",
     "text": [
      ">> FAC (VIEW1) 0.3846872887164232\n",
      ">> FOU (VIEW2) 0.13356738374925936\n",
      ">> KAR (VIEW3) 0.13356738374925936\n",
      ">> TODAS (VIEW0) 0.4633631920513403\n"
     ]
    }
   ],
   "source": [
    "from sklearn.metrics import adjusted_rand_score\n",
    "\n",
    "fac_crisp, fac_classes = clustering.get_hard_patitions(fac_result[\"membership_degree\"])\n",
    "fou_crisp, fou_classes = clustering.get_hard_patitions(fou_result[\"membership_degree\"])\n",
    "kar_crisp, kar_classes = clustering.get_hard_patitions(fou_result[\"membership_degree\"])\n",
    "todas_crisp, todas_classes = clustering.get_hard_patitions(todas_result[\"membership_degree\"])\n",
    "\n",
    "print('>> FAC (VIEW1)', adjusted_rand_score(fac_classes, classses))\n",
    "print('>> FOU (VIEW2)', adjusted_rand_score(fou_classes, classses))\n",
    "print('>> KAR (VIEW3)', adjusted_rand_score(kar_classes, classses))\n",
    "print('>> TODAS (VIEW0)', adjusted_rand_score(todas_classes, classses))"
   ]
  },
  {
   "cell_type": "markdown",
   "metadata": {},
   "source": [
    "### F-measure"
   ]
  },
  {
   "cell_type": "code",
   "execution_count": 29,
   "metadata": {},
   "outputs": [
    {
     "name": "stdout",
     "output_type": "stream",
     "text": [
      ">> FAC (VIEW1) 0.119\n",
      ">> FOU (VIEW2) 0.0795\n",
      ">> KAR (VIEW3) 0.0795\n",
      ">> TODAS (VIEW0) 0.623\n"
     ]
    }
   ],
   "source": [
    "print('>> FAC (VIEW1)', f1_score(fac_classes, classses, average=\"micro\"))\n",
    "print('>> FOU (VIEW2)', f1_score(fou_classes, classses, average=\"micro\"))\n",
    "print('>> KAR (VIEW3)', f1_score(kar_classes, classses, average=\"micro\"))\n",
    "print('>> TODAS (VIEW0)', f1_score(todas_classes, classses, average=\"micro\"))"
   ]
  },
  {
   "cell_type": "markdown",
   "metadata": {},
   "source": [
    "### Erro de classificação"
   ]
  },
  {
   "cell_type": "code",
   "execution_count": 30,
   "metadata": {},
   "outputs": [
    {
     "name": "stdout",
     "output_type": "stream",
     "text": [
      ">> FAC (VIEW1) 0.881\n",
      ">> FOU (VIEW2) 0.9205\n",
      ">> KAR (VIEW3) 0.9205\n",
      ">> TODAS (VIEW0) 0.377\n"
     ]
    }
   ],
   "source": [
    "print('>> FAC (VIEW1)', 1 - accuracy_score(fac_classes, classses))\n",
    "print('>> FOU (VIEW2)', 1 - accuracy_score(fou_classes, classses))\n",
    "print('>> KAR (VIEW3)', 1 - accuracy_score(kar_classes, classses))\n",
    "print('>> TODAS (VIEW0)', 1 - accuracy_score(todas_classes, classses))"
   ]
  },
  {
   "cell_type": "markdown",
   "metadata": {},
   "source": [
    "## Melhor resultado"
   ]
  },
  {
   "cell_type": "code",
   "execution_count": 31,
   "metadata": {},
   "outputs": [
    {
     "name": "stdout",
     "output_type": "stream",
     "text": [
      "Melhore resultado:  kar\n"
     ]
    }
   ],
   "source": [
    "fac_result[\"name\"] = \"fac\"\n",
    "fou_result[\"name\"] = \"fou\"\n",
    "kar_result[\"name\"] = \"kar\" \n",
    "todas_result[\"name\"] = \"todas\"\n",
    "\n",
    "melhor_resultado = min(fac_result, fou_result, kar_result, todas_result, key=lambda d:d[\"cost\"])\n",
    "print(\"Melhore resultado: \", melhor_resultado[\"name\"])"
   ]
  },
  {
   "cell_type": "markdown",
   "metadata": {},
   "source": [
    "### Prototipos"
   ]
  },
  {
   "cell_type": "code",
   "execution_count": 32,
   "metadata": {},
   "outputs": [
    {
     "data": {
      "text/plain": [
       "{0: [25, 78],\n",
       " 1: [25, 78],\n",
       " 2: [1890, 25],\n",
       " 3: [25, 78],\n",
       " 4: [25, 78],\n",
       " 5: [25, 78],\n",
       " 6: [25, 78],\n",
       " 7: [25, 78],\n",
       " 8: [25, 78],\n",
       " 9: [25, 78]}"
      ]
     },
     "execution_count": 32,
     "metadata": {},
     "output_type": "execute_result"
    }
   ],
   "source": [
    "{i:p for i,p in enumerate(melhor_resultado[\"last_prototypes\"])}"
   ]
  },
  {
   "cell_type": "markdown",
   "metadata": {},
   "source": [
    "### Parições crisp"
   ]
  },
  {
   "cell_type": "code",
   "execution_count": 33,
   "metadata": {},
   "outputs": [
    {
     "name": "stdout",
     "output_type": "stream",
     "text": [
      "Grupo:  0 Elementos:  [] Quantidade:  0\n",
      "Grupo:  1 Elementos:  [] Quantidade:  0\n",
      "Grupo:  2 Elementos:  [ 201  202  203  205  207  208  209  210  211  212  213  214  215  216\n",
      "  217  218  219  220  222  223  225  226  227  228  229  230  231  233\n",
      "  234  235  236  237  238  239  241  242  243  244  245  246  247  249\n",
      "  250  252  253  254  256  257  258  259  260  261  262  263  264  265\n",
      "  266  267  268  269  270  271  272  273  274  275  276  277  278  279\n",
      "  280  281  282  283  284  285  286  287  288  289  291  293  294  295\n",
      "  296  297  298  299  300  302  303  304  305  306  307  308  310  311\n",
      "  313  314  315  316  317  318  319  320  321  322  323  324  325  326\n",
      "  327  328  329  330  331  332  333  334  335  336  337  338  339  340\n",
      "  341  342  343  345  346  348  349  350  351  352  353  354  355  356\n",
      "  357  358  359  360  361  363  364  365  366  367  368  369  373  374\n",
      "  375  376  377  378  379  380  381  384  385  386  387  388  389  390\n",
      "  391  392  394  395  396  397  398  399  400  403  412  413  414  420\n",
      "  423  424  425  433  435  441  443  444  446  448  449  450  459  463\n",
      "  464  465  467  468  470  473  475  484  485  493  495  499  500  501\n",
      "  502  503  508  514  518  520  523  526  529  532  535  536  537  539\n",
      "  542  543  546  547  552  554  555  562  566  569  575  580  590  597\n",
      "  598  599  602  603  608  614  618  626  628  632  633  637  639  641\n",
      "  642  643  647  648  649  653  655  658  659  663  665  666  668  670\n",
      "  672  679  681  685  686  687  688  689  693  695  702  703  707  708\n",
      "  712  713  714  718  721  724  729  731  732  733  739  742  743  746\n",
      "  749  753  754  756  757  760  761  762  763  764  765  771  772  773\n",
      "  778  782  788  790  796  797  803  808  811  813  814  819  824  826\n",
      "  830  832  834  836  837  841  842  849  850  852  854  855  856  857\n",
      "  858  859  862  864  868  869  872  876  878  881  882  883  885  886\n",
      "  889  891  895  897  900  905  908  911  912  918  920  922  924  926\n",
      "  929  930  934  938  939  943  944  945  950  951  955  957  961  963\n",
      "  965  966  971  974  975  976  977  980  982  988  990  992  993  997\n",
      "  998  999 1002 1004 1006 1007 1008 1010 1011 1012 1013 1020 1021 1022\n",
      " 1023 1024 1026 1027 1029 1030 1032 1035 1037 1042 1043 1044 1046 1048\n",
      " 1050 1051 1052 1053 1054 1056 1061 1063 1069 1072 1073 1074 1075 1076\n",
      " 1077 1078 1079 1081 1084 1085 1089 1090 1093 1095 1096 1097 1099 1100\n",
      " 1101 1102 1104 1105 1106 1108 1109 1116 1120 1121 1122 1123 1124 1126\n",
      " 1129 1130 1132 1134 1138 1139 1140 1141 1142 1145 1147 1150 1155 1157\n",
      " 1166 1167 1170 1179 1181 1183 1186 1189 1190 1191 1193 1194 1195 1198\n",
      " 1199 1203 1207 1218 1222 1235 1258 1299 1330 1345 1351 1388 1401 1402\n",
      " 1403 1404 1405 1406 1407 1408 1409 1410 1411 1412 1413 1414 1415 1416\n",
      " 1417 1418 1419 1420 1421 1422 1423 1424 1425 1426 1427 1428 1429 1430\n",
      " 1431 1432 1433 1434 1435 1436 1437 1438 1439 1440 1441 1442 1443 1444\n",
      " 1445 1447 1448 1449 1450 1451 1452 1453 1454 1456 1457 1458 1459 1460\n",
      " 1461 1462 1463 1464 1465 1466 1468 1469 1470 1471 1472 1473 1474 1475\n",
      " 1476 1477 1478 1479 1480 1481 1483 1484 1485 1486 1487 1488 1489 1490\n",
      " 1491 1492 1493 1494 1495 1496 1497 1498 1499 1500 1501 1502 1503 1504\n",
      " 1505 1506 1507 1508 1509 1511 1512 1513 1515 1516 1517 1518 1519 1520\n",
      " 1521 1522 1523 1524 1525 1526 1527 1528 1529 1530 1531 1532 1533 1534\n",
      " 1535 1536 1537 1538 1539 1540 1541 1542 1543 1544 1545 1546 1547 1548\n",
      " 1549 1551 1552 1553 1554 1555 1556 1557 1558 1559 1560 1561 1562 1563\n",
      " 1564 1565 1566 1567 1568 1569 1570 1571 1572 1573 1574 1576 1577 1578\n",
      " 1579 1580 1581 1582 1583 1584 1585 1586 1587 1588 1589 1590 1591 1592\n",
      " 1593 1594 1595 1596 1597 1598 1599 1603 1604 1608 1609 1611 1622 1623\n",
      " 1625 1626 1634 1635 1639 1651 1658 1663 1667 1671 1674 1680 1691 1696\n",
      " 1697 1699 1702 1708 1729 1733 1741 1742 1750 1752 1755 1758 1761 1763\n",
      " 1769 1770 1773 1783 1784 1792 1796 1801 1802 1803 1804 1805 1807 1808\n",
      " 1809 1810 1811 1812 1813 1814 1815 1816 1817 1818 1819 1821 1823 1824\n",
      " 1825 1826 1827 1828 1831 1833 1834 1835 1839 1840 1842 1843 1844 1845\n",
      " 1846 1847 1848 1849 1850 1851 1853 1854 1856 1857 1858 1859 1860 1862\n",
      " 1863 1864 1865 1867 1868 1869 1870 1871 1873 1874 1875 1876 1877 1878\n",
      " 1879 1880 1881 1883 1886 1887 1888 1889 1890 1891 1892 1893 1894 1895\n",
      " 1896 1897 1898 1899 1900 1901 1902 1903 1904 1905 1906 1907 1908 1909\n",
      " 1910 1911 1912 1913 1914 1915 1916 1918 1919 1920 1921 1922 1923 1924\n",
      " 1925 1926 1927 1928 1930 1931 1932 1933 1934 1935 1938 1939 1940 1941\n",
      " 1942 1943 1944 1945 1946 1947 1948 1949 1950 1952 1953 1954 1955 1956\n",
      " 1957 1958 1959 1960 1961 1962 1963 1964 1965 1966 1968 1969 1970 1971\n",
      " 1972 1974 1975 1976 1977 1978 1979 1980 1981 1982 1983 1984 1985 1986\n",
      " 1987 1988 1989 1990 1992 1993 1994 1995 1996 1998 1999] Quantidade:  907\n",
      "Grupo:  3 Elementos:  [] Quantidade:  0\n",
      "Grupo:  4 Elementos:  [] Quantidade:  0\n",
      "Grupo:  5 Elementos:  [] Quantidade:  0\n",
      "Grupo:  6 Elementos:  [] Quantidade:  0\n",
      "Grupo:  7 Elementos:  [] Quantidade:  0\n",
      "Grupo:  8 Elementos:  [] Quantidade:  0\n",
      "Grupo:  9 Elementos:  [   0    1    2 ... 1973 1991 1997] Quantidade:  1093\n",
      "Total de elementos somados: 2000\n"
     ]
    }
   ],
   "source": [
    "membership_degree = melhor_resultado[\"membership_degree\"]\n",
    "melhor_hard, melhor_classes = clustering.get_hard_patitions(membership_degree)\n",
    "\n",
    "for number, group in enumerate(melhor_hard):\n",
    "    print(\"Grupo: \", number, \"Elementos: \", group, \"Quantidade: \", len(group))\n",
    "\n",
    "print(\"Total de elementos somados:\",  sum([len(g) for g in melhor_hard]))"
   ]
  },
  {
   "cell_type": "markdown",
   "metadata": {},
   "source": [
    "###  Modified partition coefficient"
   ]
  },
  {
   "cell_type": "code",
   "execution_count": 34,
   "metadata": {},
   "outputs": [
    {
     "name": "stdout",
     "output_type": "stream",
     "text": [
      ">>  0.0001937099152655719\n"
     ]
    }
   ],
   "source": [
    "print('>> ', clustering.calc_modified_partition_coefficient(melhor_resultado[\"membership_degree\"]))"
   ]
  },
  {
   "cell_type": "markdown",
   "metadata": {},
   "source": [
    "### Adjusted Rand Index"
   ]
  },
  {
   "cell_type": "code",
   "execution_count": 35,
   "metadata": {},
   "outputs": [
    {
     "name": "stdout",
     "output_type": "stream",
     "text": [
      ">>  0.3846872887164232\n"
     ]
    }
   ],
   "source": [
    "print('>> ', adjusted_rand_score(fac_classes, classses))"
   ]
  },
  {
   "cell_type": "markdown",
   "metadata": {},
   "source": [
    "### F-measure"
   ]
  },
  {
   "cell_type": "code",
   "execution_count": 36,
   "metadata": {},
   "outputs": [
    {
     "name": "stdout",
     "output_type": "stream",
     "text": [
      ">>  0.046\n"
     ]
    }
   ],
   "source": [
    "print('>> ', f1_score(melhor_classes, classses, average=\"micro\"))"
   ]
  },
  {
   "cell_type": "markdown",
   "metadata": {},
   "source": [
    "### Erro de classificação"
   ]
  },
  {
   "cell_type": "code",
   "execution_count": 37,
   "metadata": {},
   "outputs": [
    {
     "name": "stdout",
     "output_type": "stream",
     "text": [
      ">>  0.954\n"
     ]
    }
   ],
   "source": [
    "print('>> ', 1 - accuracy_score(melhor_classes, classses))"
   ]
  }
 ],
 "metadata": {
  "colab": {
   "collapsed_sections": [],
   "name": "02_clusterizar_lazy_version.ipynb",
   "provenance": [],
   "toc_visible": true
  },
  "kernelspec": {
   "display_name": "Python 3",
   "language": "python",
   "name": "python3"
  },
  "language_info": {
   "codemirror_mode": {
    "name": "ipython",
    "version": 3
   },
   "file_extension": ".py",
   "mimetype": "text/x-python",
   "name": "python",
   "nbconvert_exporter": "python",
   "pygments_lexer": "ipython3",
   "version": "3.6.10"
  },
  "toc": {
   "base_numbering": 1,
   "nav_menu": {},
   "number_sections": true,
   "sideBar": true,
   "skip_h1_title": false,
   "title_cell": "Table of Contents",
   "title_sidebar": "Contents",
   "toc_cell": false,
   "toc_position": {
    "height": "calc(100% - 180px)",
    "left": "10px",
    "top": "150px",
    "width": "239px"
   },
   "toc_section_display": true,
   "toc_window_display": true
  }
 },
 "nbformat": 4,
 "nbformat_minor": 1
}
