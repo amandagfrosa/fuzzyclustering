{
 "cells": [
  {
   "cell_type": "markdown",
   "metadata": {},
   "source": [
    "# Imports"
   ]
  },
  {
   "cell_type": "code",
   "execution_count": 1,
   "metadata": {},
   "outputs": [],
   "source": [
    "import pickle\n",
    "import pandas as pd\n",
    "import numpy as np\n",
    "from sklearn.metrics import f1_score\n",
    "from sklearn.metrics import accuracy_score"
   ]
  },
  {
   "cell_type": "markdown",
   "metadata": {},
   "source": [
    "## Importando resultados"
   ]
  },
  {
   "cell_type": "code",
   "execution_count": 2,
   "metadata": {},
   "outputs": [],
   "source": [
    "def import_best_result(file_name):\n",
    "    with open(file_name, \"rb\") as f:\n",
    "        return pickle.load(f)\n",
    "\n",
    "def import_fuzzy_partitions_from_csv(file_name):\n",
    "    return pd.read_csv(file_name, decimal=',')\n",
    "\n",
    "    \n",
    "fac_result = import_best_result(\"data/melhor_resultado_fac.pickle\")\n",
    "fou_result = import_best_result(\"data/melhor_resultado_fou.pickle\")\n",
    "kar_result = import_best_result(\"data/melhor_resultado_kar.pickle\")\n",
    "todas_result = import_best_result(\"data/melhor_resultado_todas.pickle\")\n",
    "\n",
    "\n",
    "fac_fuzzy = import_fuzzy_partitions_from_csv(\"data/fuzzy_partitions_fac.csv\")\n",
    "fou_fuzzy = import_fuzzy_partitions_from_csv(\"data/fuzzy_partitions_fou.csv\")\n",
    "kar_fuzzy = import_fuzzy_partitions_from_csv(\"data/fuzzy_partitions_kar.csv\")\n",
    "todas_fuzzy = import_fuzzy_partitions_from_csv(\"data/fuzzy_partitions_todas.csv\")"
   ]
  },
  {
   "cell_type": "markdown",
   "metadata": {},
   "source": [
    "## Melhores resultados"
   ]
  },
  {
   "cell_type": "code",
   "execution_count": 3,
   "metadata": {},
   "outputs": [
    {
     "name": "stdout",
     "output_type": "stream",
     "text": [
      "Melhor custo pro fac 3383.2055017732046\n",
      "Melhor custo pro fou 1800.4341935576729\n",
      "Melhor custo pro kar 1517.5559412009745\n",
      "Melhor custo com as três matrizes 6665.410166578429\n"
     ]
    }
   ],
   "source": [
    "print(\"Melhor custo pro fac\", fac_result[\"cost\"])\n",
    "print(\"Melhor custo pro fou\", fou_result[\"cost\"])\n",
    "print(\"Melhor custo pro kar\", kar_result[\"cost\"])\n",
    "print(\"Melhor custo com as três matrizes\", todas_result[\"cost\"])"
   ]
  },
  {
   "cell_type": "markdown",
   "metadata": {},
   "source": [
    "## Modified partition coefficient"
   ]
  },
  {
   "cell_type": "code",
   "execution_count": 4,
   "metadata": {},
   "outputs": [],
   "source": [
    "def calc_partition_coefficient(membership_degree):\n",
    "    n = membership_degree.shape[0]\n",
    "    membership_degree = np.power(membership_degree, 2)\n",
    "    return membership_degree.sum(axis = 1).sum()/n\n",
    "\n",
    "def calc_modified_partition_coefficient(membership_degree):\n",
    "    c = membership_degree.shape[1]\n",
    "    vpc = calc_partition_coefficient(membership_degree)\n",
    "    return 1 - (c/(c-1))*(1-vpc)"
   ]
  },
  {
   "cell_type": "code",
   "execution_count": 5,
   "metadata": {},
   "outputs": [
    {
     "name": "stdout",
     "output_type": "stream",
     "text": [
      ">> FAC (VIEW1) 0.012656027846346563\n",
      ">> FOU (VIEW2) 0.0003644924738648303\n",
      ">> KAR (VIEW3) 0.0009918034380510532\n",
      ">> TODAS (VIEW0) 0.0023883326831980467\n"
     ]
    }
   ],
   "source": [
    "print('>> FAC (VIEW1)', calc_modified_partition_coefficient(fac_result[\"membership_degree\"]))\n",
    "print('>> FOU (VIEW2)', calc_modified_partition_coefficient(fou_result[\"membership_degree\"]))\n",
    "print('>> KAR (VIEW3)', calc_modified_partition_coefficient(kar_result[\"membership_degree\"]))\n",
    "print('>> TODAS (VIEW0)', calc_modified_partition_coefficient(todas_result[\"membership_degree\"]))"
   ]
  },
  {
   "cell_type": "markdown",
   "metadata": {},
   "source": [
    "## Entropy"
   ]
  },
  {
   "cell_type": "code",
   "execution_count": 6,
   "metadata": {},
   "outputs": [],
   "source": [
    "def calc_partition_entropy(membership_degree):\n",
    "    n = membership_degree.shape[0]\n",
    "    membership_degree = np.log10(membership_degree) * membership_degree\n",
    "    return -membership_degree.sum(axis = 1).sum()/n\n"
   ]
  },
  {
   "cell_type": "code",
   "execution_count": 7,
   "metadata": {},
   "outputs": [
    {
     "name": "stdout",
     "output_type": "stream",
     "text": [
      ">> FAC (VIEW1) 0.9773769238834532\n",
      ">> FOU (VIEW2) 0.9993079325937968\n",
      ">> KAR (VIEW3) 0.9981081541310196\n",
      ">> TODAS (VIEW0) 0.9955900696072825\n"
     ]
    }
   ],
   "source": [
    "print('>> FAC (VIEW1)', calc_partition_entropy(fac_result[\"membership_degree\"]))\n",
    "print('>> FOU (VIEW2)', calc_partition_entropy(fou_result[\"membership_degree\"]))\n",
    "print('>> KAR (VIEW3)', calc_partition_entropy(kar_result[\"membership_degree\"]))\n",
    "print('>> TODAS (VIEW0)', calc_partition_entropy(todas_result[\"membership_degree\"]))"
   ]
  },
  {
   "cell_type": "markdown",
   "metadata": {},
   "source": [
    "## Partições crisp"
   ]
  },
  {
   "cell_type": "code",
   "execution_count": 8,
   "metadata": {},
   "outputs": [],
   "source": [
    "from itertools import chain\n",
    "\n",
    "def get_hard_patitions(membership_degree):\n",
    "    \"\"\"\n",
    "        membership_degree: numpy array of shape N x K\n",
    "    \"\"\"\n",
    "    \n",
    "    u = membership_degree\n",
    "    members = []\n",
    "    K = membership_degree.shape[1]\n",
    "    \n",
    "    # Obtendo o índice do grupo em que cada elemento possui maior valor de pertencimento\n",
    "    element_index_membership = u.argsort(axis=1)[:, -1]\n",
    "    \n",
    "    index_class = {}\n",
    "    for k in range(K):\n",
    "        # Para cada grupo k, extrai quais dos elementos possui maior grau de pertencimento para ele\n",
    "        memb = np.where(element_index_membership == k)[0]\n",
    "        members.append(memb)\n",
    "        index_class.update({m:k for m in memb})\n",
    "    \n",
    "    predicted_classes = [index_class[m] for m in sorted(index_class.keys())]\n",
    "    \n",
    "    return members, predicted_classes\n",
    "\n",
    "def get_instances_class(qtd=10):\n",
    "    return list(chain(*[[i]*200 for i in range(qtd)]))\n",
    "\n",
    "classses = get_instances_class(10)"
   ]
  },
  {
   "cell_type": "code",
   "execution_count": 9,
   "metadata": {},
   "outputs": [
    {
     "name": "stdout",
     "output_type": "stream",
     "text": [
      "0 [ 203  205  209  212  221  223  228  231  232  234  240  243  245  248\n",
      "  250  251  259  265  270  271  277  285  286  294  295  297  298  303\n",
      "  310  314  317  320  327  341  343  350  357  363  366  368  374  377\n",
      "  381  382  383  396  401  405  407  559  609  648  652  670  692  725\n",
      "  783  801  804  805  806  811  812  814  816  817  819  824  826  827\n",
      "  830  832  835  836  837  838  839  848  850  851  856  858  859  860\n",
      "  863  864  867  870  872  873  874  876  880  881  884  886  887  889\n",
      "  891  893  895  896  899  903  904  920  924  926  928  929  930  931\n",
      "  933  934  936  937  940  953  955  963  966  968  969  971  973  975\n",
      "  977  979  990  994  997  998 1046 1048 1076 1078 1106 1200 1220 1222\n",
      " 1274 1295 1322 1327 1345 1358 1359 1392 1397 1609 1639 1758 1919] 153\n",
      "1 [] 0\n",
      "2 [ 200  201  202  204  210  211  213  215  216  217  219  220  224  225\n",
      "  226  229  230  233  236  237  238  241  242  244  252  253  255  256\n",
      "  258  260  263  272  274  276  278  280  287  289  292  293  304  306\n",
      "  307  309  311  319  322  325  329  330  332  334  337  338  344  345\n",
      "  346  347  351  353  356  358  360  362  365  370  373  379  380  387\n",
      "  388  389  391  392  394  395  397  398  399  400  406  411  412  413\n",
      "  416  417  418  423  427  429  439  444  446  448  451  453  454  456\n",
      "  457  461  462  463  464  465  466  467  468  475  477  478  482  483\n",
      "  484  486  490  494  495  497  498  502  503  508  513  516  517  518\n",
      "  520  528  532  533  536  538  546  549  553  556  565  567  569  576\n",
      "  583  584  588  590  591  593  595  596  597  599  602  603  604  606\n",
      "  607  608  613  614  616  617  618  619  622  623  625  626  628  629\n",
      "  630  632  633  635  638  639  640  641  642  643  644  645  646  647\n",
      "  649  653  654  655  656  658  659  661  662  665  666  667  668  669\n",
      "  672  674  675  676  677  679  680  681  683  685  686  687  688  689\n",
      "  693  694  695  697  698  701  702  703  704  706  707  708  709  712\n",
      "  713  714  715  718  719  721  723  724  727  728  729  731  732  733\n",
      "  734  737  738  739  742  743  745  746  747  748  749  750  751  752\n",
      "  753  754  755  756  757  759  760  761  762  763  764  765  766  767\n",
      "  771  772  773  778  779  781  782  786  788  793  796  797  798  809\n",
      "  828  833  854  857  862  900  905  921  939  943  950  952  960  989\n",
      "  991 1001 1004 1010 1030 1042 1056 1057 1059 1061 1062 1063 1075 1087\n",
      " 1090 1097 1098 1101 1107 1120 1129 1130 1138 1149 1157 1159 1163 1164\n",
      " 1174 1178 1183 1190 1196 1330 1400 1401 1404 1406 1408 1411 1415 1417\n",
      " 1418 1420 1421 1422 1423 1424 1430 1433 1434 1436 1438 1440 1442 1445\n",
      " 1446 1447 1448 1450 1452 1454 1455 1456 1461 1464 1467 1468 1470 1471\n",
      " 1474 1477 1481 1483 1492 1496 1497 1499 1503 1505 1507 1508 1510 1511\n",
      " 1512 1513 1514 1521 1528 1535 1538 1539 1543 1544 1547 1548 1551 1552\n",
      " 1555 1560 1561 1563 1567 1568 1571 1575 1581 1582 1588 1589 1590 1591\n",
      " 1592 1594 1596 1599 1667 1696 1884 1915] 414\n",
      "3 [] 0\n",
      "4 [   5    8   17   34   63   86  107  119  125  144  145  158  164  169\n",
      "  171  172  175  218  235  264  296  301  302  312  313  372  404  409\n",
      "  415  419  421  430  440  442  455  469  473  474  476  492  496  501\n",
      "  509  510  511  519  522  525  527  535  545  551  552  554  557  561\n",
      "  563  564  568  573  574  579  581  586  587  589  776  810  815  825\n",
      "  842  844  852  861  865  885  898  901  902  910  914  918  923  927\n",
      "  945  947  948  951  956  958  961  976  980  983  985  992  999 1000\n",
      " 1018 1043 1082 1095 1210 1214 1216 1217 1219 1221 1223 1228 1229 1230\n",
      " 1232 1233 1234 1236 1237 1238 1239 1240 1241 1242 1245 1247 1248 1256\n",
      " 1259 1260 1262 1263 1265 1269 1270 1271 1272 1277 1278 1279 1283 1285\n",
      " 1289 1292 1299 1302 1304 1305 1306 1307 1308 1309 1311 1314 1325 1332\n",
      " 1333 1335 1336 1337 1340 1341 1347 1348 1349 1353 1356 1357 1360 1361\n",
      " 1362 1363 1366 1368 1371 1372 1373 1374 1379 1380 1382 1385 1386 1387\n",
      " 1393 1395 1600 1603 1606 1612 1617 1619 1624 1626 1627 1643 1648 1653\n",
      " 1654 1657 1658 1661 1662 1663 1664 1666 1668 1669 1670 1672 1673 1677\n",
      " 1681 1682 1685 1690 1692 1693 1695 1697 1698 1700 1701 1702 1705 1709\n",
      " 1710 1711 1713 1714 1715 1717 1720 1722 1723 1725 1726 1727 1728 1734\n",
      " 1735 1737 1740 1744 1747 1749 1750 1753 1754 1757 1759 1760 1761 1762\n",
      " 1764 1765 1766 1767 1768 1769 1770 1772 1777 1778 1779 1781 1790 1795\n",
      " 1797 1798 1832 1864] 270\n",
      "5 [   0    1    2    3    4    6    7    9   10   11   12   13   14   15\n",
      "   16   18   19   20   21   22   23   24   25   26   27   28   29   30\n",
      "   31   32   33   35   36   37   38   39   40   41   42   43   44   45\n",
      "   46   47   48   49   50   51   52   53   54   55   56   57   58   59\n",
      "   60   61   62   64   65   66   67   68   69   70   71   72   73   74\n",
      "   75   76   77   78   79   80   81   82   83   84   85   87   88   89\n",
      "   90   91   92   93   94   95   96   97   98   99  100  101  102  103\n",
      "  104  105  108  109  110  111  112  113  114  115  116  117  118  120\n",
      "  121  122  123  124  126  127  128  129  130  131  132  133  134  135\n",
      "  136  137  138  139  140  141  142  143  146  147  148  149  150  151\n",
      "  152  153  154  155  156  157  159  160  161  162  163  165  166  167\n",
      "  168  170  173  174  176  177  178  179  180  181  182  183  184  185\n",
      "  186  187  188  189  190  191  192  193  194  195  196  197  198  199\n",
      "  480  514  534  550  558  605  774  792  821  829  855  875  908  919\n",
      "  922  935  942  965  970  988 1003 1031 1036 1058 1065 1070 1091 1102\n",
      " 1105 1113 1121 1124 1127 1128 1137 1176 1182 1197 1201 1202 1203 1204\n",
      " 1208 1209 1212 1213 1215 1224 1225 1227 1231 1244 1252 1254 1255 1258\n",
      " 1261 1266 1273 1286 1287 1291 1294 1312 1313 1319 1326 1328 1331 1339\n",
      " 1343 1346 1351 1352 1354 1355 1376 1377 1381 1383 1384 1399 1601 1602\n",
      " 1604 1605 1607 1608 1610 1613 1614 1615 1616 1618 1620 1621 1622 1628\n",
      " 1629 1630 1631 1633 1634 1635 1636 1637 1638 1640 1641 1642 1644 1645\n",
      " 1647 1649 1650 1651 1652 1655 1656 1659 1660 1665 1671 1674 1675 1676\n",
      " 1678 1679 1683 1684 1686 1687 1688 1689 1691 1694 1703 1704 1706 1707\n",
      " 1708 1712 1716 1718 1719 1721 1724 1730 1738 1739 1742 1743 1745 1746\n",
      " 1751 1752 1756 1763 1771 1773 1774 1775 1776 1780 1782 1784 1785 1787\n",
      " 1788 1789 1791 1792 1794 1796 1799] 357\n",
      "6 [] 0\n",
      "7 [ 206  207  214  222  227  246  247  254  257  261  266  267  268  269\n",
      "  273  275  279  281  282  283  284  288  291  299  300  305  308  315\n",
      "  316  318  321  324  326  328  333  335  336  340  342  348  349  352\n",
      "  354  355  359  364  367  371  375  376  378  384  385  390  402  403\n",
      "  408  410  414  420  422  424  425  426  428  432  433  434  435  436\n",
      "  437  441  443  445  447  449  450  452  459  460  470  472  479  481\n",
      "  485  487  488  491  493  499  500  504  505  512  515  523  524  539\n",
      "  542  543  544  547  548  555  562  566  570  572  575  577  578  580\n",
      "  582  585  592  594  598  610  790  841  868  882  974  987 1006 1007\n",
      " 1008 1015 1019 1022 1024 1028 1029 1032 1053 1054 1066 1069 1072 1074\n",
      " 1077 1081 1084 1086 1093 1096 1100 1103 1104 1108 1109 1111 1116 1123\n",
      " 1131 1134 1136 1139 1141 1142 1144 1145 1147 1150 1152 1154 1161 1165\n",
      " 1167 1170 1177 1179 1181 1184 1186 1191 1193 1195 1206 1207 1218 1388\n",
      " 1402 1403 1405 1407 1409 1410 1412 1413 1414 1416 1419 1425 1426 1427\n",
      " 1428 1429 1431 1432 1435 1437 1439 1441 1443 1444 1449 1451 1453 1457\n",
      " 1458 1459 1460 1462 1463 1465 1466 1469 1472 1473 1475 1476 1478 1479\n",
      " 1480 1482 1484 1485 1486 1487 1488 1489 1490 1491 1493 1494 1495 1498\n",
      " 1500 1501 1502 1504 1506 1509 1515 1516 1517 1518 1519 1520 1522 1523\n",
      " 1524 1525 1526 1527 1529 1530 1531 1532 1533 1534 1536 1537 1540 1541\n",
      " 1542 1545 1546 1549 1550 1553 1554 1556 1557 1558 1559 1562 1564 1565\n",
      " 1566 1569 1570 1572 1573 1574 1576 1577 1578 1579 1580 1583 1584 1585\n",
      " 1586 1587 1593 1595 1597 1598 1699 1729 1800 1801 1802 1803 1804 1805\n",
      " 1806 1807 1808 1809 1810 1811 1812 1813 1814 1815 1816 1817 1818 1819\n",
      " 1820 1821 1822 1823 1824 1825 1826 1827 1828 1829 1830 1831 1833 1834\n",
      " 1835 1836 1837 1838 1839 1840 1841 1842 1843 1844 1845 1846 1847 1848\n",
      " 1849 1850 1851 1852 1853 1854 1855 1856 1857 1858 1859 1860 1861 1862\n",
      " 1863 1865 1866 1867 1868 1869 1871 1873 1874 1875 1876 1877 1878 1879\n",
      " 1880 1881 1882 1883 1885 1886 1887 1888 1889 1890 1891 1892 1893 1894\n",
      " 1895 1896 1897 1898 1899 1900 1901 1902 1903 1904 1905 1906 1907 1908\n",
      " 1909 1910 1911 1912 1913 1914 1916 1917 1920 1921 1922 1923 1924 1925\n",
      " 1926 1927 1928 1929 1930 1931 1932 1933 1934 1935 1937 1938 1939 1940\n",
      " 1941 1942 1943 1944 1945 1946 1947 1948 1949 1950 1951 1952 1953 1954\n",
      " 1955 1956 1957 1958 1959 1960 1961 1962 1963 1964 1965 1966 1967 1968\n",
      " 1969 1970 1971 1972 1973 1974 1975 1976 1977 1978 1979 1980 1981 1982\n",
      " 1983 1984 1985 1986 1987 1988 1989 1990 1991 1992 1993 1994 1995 1996\n",
      " 1997 1998 1999] 493\n",
      "8 [ 239  249  262  323  339  361  369  386  393  600  601  611  612  615\n",
      "  620  621  624  627  631  634  636  637  650  651  657  660  663  664\n",
      "  671  673  678  682  684  690  691  696  699  700  705  710  711  716\n",
      "  717  720  722  726  730  735  736  740  741  744  758  768  769  770\n",
      "  775  777  780  784  785  787  789  791  794  795  799  800  802  803\n",
      "  807  813  820  822  823  831  834  840  843  846  847  849  853  866\n",
      "  869  871  877  883  888  890  892  894  897  906  907  909  911  912\n",
      "  915  916  917  925  932  941  946  949  954  957  959  962  967  972\n",
      "  978  981  984  986  995  996 1002 1005 1009 1011 1012 1013 1014 1016\n",
      " 1017 1020 1021 1023 1025 1027 1033 1034 1035 1037 1038 1039 1040 1041\n",
      " 1044 1045 1047 1049 1050 1051 1052 1055 1060 1064 1067 1068 1071 1073\n",
      " 1079 1080 1083 1085 1088 1089 1092 1094 1099 1110 1112 1114 1115 1117\n",
      " 1118 1119 1122 1125 1126 1132 1133 1135 1140 1143 1146 1148 1151 1153\n",
      " 1155 1156 1158 1160 1162 1166 1168 1169 1171 1172 1173 1175 1180 1185\n",
      " 1187 1188 1189 1192 1194 1198 1199 1205 1226 1249 1250 1253 1264 1267\n",
      " 1280 1281 1290 1298 1300 1301 1315 1316 1318 1320 1324 1342 1375 1389\n",
      " 1390 1396 1872 1918 1936] 229\n",
      "9 [ 106  208  290  331  431  438  458  471  489  506  507  521  526  529\n",
      "  530  531  537  540  541  560  571  808  818  845  878  879  913  938\n",
      "  944  964  982  993 1026 1211 1235 1243 1246 1251 1257 1268 1275 1276\n",
      " 1282 1284 1288 1293 1296 1297 1303 1310 1317 1321 1323 1329 1334 1338\n",
      " 1344 1350 1364 1365 1367 1369 1370 1378 1391 1394 1398 1611 1623 1625\n",
      " 1632 1646 1680 1731 1732 1733 1736 1741 1748 1755 1783 1786 1793 1870] 84\n",
      "Total de elementos somados: 2000\n"
     ]
    }
   ],
   "source": [
    "membership_degree = todas_result[\"membership_degree\"]\n",
    "hard_members, predicted_classes = get_hard_patitions(membership_degree)\n",
    "\n",
    "for group_number, group in enumerate(hard_members):\n",
    "    print(group_number, group, len(group))\n",
    "\n",
    "print(\"Total de elementos somados:\",  sum([len(g) for g in hard_members]))"
   ]
  },
  {
   "cell_type": "markdown",
   "metadata": {},
   "source": [
    "## Adjusted Rand Index"
   ]
  },
  {
   "cell_type": "code",
   "execution_count": 10,
   "metadata": {},
   "outputs": [
    {
     "name": "stdout",
     "output_type": "stream",
     "text": [
      ">> FAC (VIEW1) 0.28955002143740005\n",
      ">> FOU (VIEW2) 0.0993059031935507\n",
      ">> KAR (VIEW3) 0.0993059031935507\n",
      ">> TODAS (VIEW0) 0.22917666469730535\n"
     ]
    }
   ],
   "source": [
    "from sklearn.metrics import adjusted_rand_score\n",
    "\n",
    "fac_crisp, fac_classes = get_hard_patitions(fac_result[\"membership_degree\"])\n",
    "fou_crisp, fou_classes = get_hard_patitions(fou_result[\"membership_degree\"])\n",
    "kar_crisp, kar_classes = get_hard_patitions(fou_result[\"membership_degree\"])\n",
    "todas_crisp, todas_classes = get_hard_patitions(todas_result[\"membership_degree\"])\n",
    "\n",
    "print('>> FAC (VIEW1)', adjusted_rand_score(fac_classes, classses))\n",
    "print('>> FOU (VIEW2)', adjusted_rand_score(fou_classes, classses))\n",
    "print('>> KAR (VIEW3)', adjusted_rand_score(kar_classes, classses))\n",
    "print('>> TODAS (VIEW0)', adjusted_rand_score(todas_classes, classses))"
   ]
  },
  {
   "cell_type": "markdown",
   "metadata": {},
   "source": [
    "## F-measure"
   ]
  },
  {
   "cell_type": "code",
   "execution_count": 11,
   "metadata": {},
   "outputs": [
    {
     "name": "stdout",
     "output_type": "stream",
     "text": [
      ">> FAC (VIEW1) 0.152\n",
      ">> FOU (VIEW2) 0.04900000000000001\n",
      ">> KAR (VIEW3) 0.04900000000000001\n",
      ">> TODAS (VIEW0) 0.119\n"
     ]
    }
   ],
   "source": [
    "print('>> FAC (VIEW1)', f1_score(fac_classes, classses, average=\"micro\"))\n",
    "print('>> FOU (VIEW2)', f1_score(fou_classes, classses, average=\"micro\"))\n",
    "print('>> KAR (VIEW3)', f1_score(kar_classes, classses, average=\"micro\"))\n",
    "print('>> TODAS (VIEW0)', f1_score(todas_classes, classses, average=\"micro\"))"
   ]
  },
  {
   "cell_type": "markdown",
   "metadata": {},
   "source": [
    "## Erro de classificação"
   ]
  },
  {
   "cell_type": "code",
   "execution_count": 12,
   "metadata": {},
   "outputs": [
    {
     "name": "stdout",
     "output_type": "stream",
     "text": [
      ">> FAC (VIEW1) 0.848\n",
      ">> FOU (VIEW2) 0.951\n",
      ">> KAR (VIEW3) 0.951\n",
      ">> TODAS (VIEW0) 0.881\n"
     ]
    }
   ],
   "source": [
    "print('>> FAC (VIEW1)', 1 - accuracy_score(fac_classes, classses))\n",
    "print('>> FOU (VIEW2)', 1 - accuracy_score(fou_classes, classses))\n",
    "print('>> KAR (VIEW3)', 1 - accuracy_score(kar_classes, classses))\n",
    "print('>> TODAS (VIEW0)', 1 - accuracy_score(todas_classes, classses))"
   ]
  }
 ],
 "metadata": {
  "colab": {
   "collapsed_sections": [],
   "name": "02_clusterizar_lazy_version.ipynb",
   "provenance": [],
   "toc_visible": true
  },
  "kernelspec": {
   "display_name": "Python 3",
   "language": "python",
   "name": "python3"
  },
  "language_info": {
   "codemirror_mode": {
    "name": "ipython",
    "version": 3
   },
   "file_extension": ".py",
   "mimetype": "text/x-python",
   "name": "python",
   "nbconvert_exporter": "python",
   "pygments_lexer": "ipython3",
   "version": "3.6.10"
  },
  "toc": {
   "base_numbering": 1,
   "nav_menu": {},
   "number_sections": true,
   "sideBar": true,
   "skip_h1_title": false,
   "title_cell": "Table of Contents",
   "title_sidebar": "Contents",
   "toc_cell": false,
   "toc_position": {
    "height": "calc(100% - 180px)",
    "left": "10px",
    "top": "150px",
    "width": "165px"
   },
   "toc_section_display": true,
   "toc_window_display": true
  }
 },
 "nbformat": 4,
 "nbformat_minor": 1
}
