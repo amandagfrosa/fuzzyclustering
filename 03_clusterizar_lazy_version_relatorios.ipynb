{
 "cells": [
  {
   "cell_type": "markdown",
   "metadata": {},
   "source": [
    "## Imports"
   ]
  },
  {
   "cell_type": "code",
   "execution_count": 1,
   "metadata": {},
   "outputs": [],
   "source": [
    "from sklearn.metrics import f1_score\n",
    "from sklearn.metrics import accuracy_score\n",
    "\n",
    "import clustering"
   ]
  },
  {
   "cell_type": "markdown",
   "metadata": {},
   "source": [
    "## Importando resultados"
   ]
  },
  {
   "cell_type": "code",
   "execution_count": 2,
   "metadata": {},
   "outputs": [],
   "source": [
    "fac_result = clustering.import_best_result(\"data/melhor_resultado_fac.pickle\")\n",
    "fou_result = clustering.import_best_result(\"data/melhor_resultado_fou.pickle\")\n",
    "kar_result = clustering.import_best_result(\"data/melhor_resultado_kar.pickle\")\n",
    "todas_result = clustering.import_best_result(\"data/melhor_resultado_todas.pickle\")\n",
    "\n",
    "\n",
    "fac_fuzzy = clustering.import_fuzzy_partitions_from_csv(\"data/fuzzy_partitions_fac.csv\")\n",
    "fou_fuzzy = clustering.import_fuzzy_partitions_from_csv(\"data/fuzzy_partitions_fou.csv\")\n",
    "kar_fuzzy = clustering.import_fuzzy_partitions_from_csv(\"data/fuzzy_partitions_kar.csv\")\n",
    "todas_fuzzy = clustering.import_fuzzy_partitions_from_csv(\"data/fuzzy_partitions_todas.csv\")"
   ]
  },
  {
   "cell_type": "code",
   "execution_count": 3,
   "metadata": {},
   "outputs": [
    {
     "data": {
      "text/plain": [
       "9"
      ]
     },
     "execution_count": 3,
     "metadata": {},
     "output_type": "execute_result"
    }
   ],
   "source": [
    "todas_result[\"times\"]"
   ]
  },
  {
   "cell_type": "markdown",
   "metadata": {},
   "source": [
    "## Melhores resultados"
   ]
  },
  {
   "cell_type": "code",
   "execution_count": 4,
   "metadata": {},
   "outputs": [
    {
     "name": "stdout",
     "output_type": "stream",
     "text": [
      "Melhor custo pro fac 3383.2055017732046\n",
      "Melhor custo pro fou 1800.4341935576729\n",
      "Melhor custo pro kar 1517.5559412009745\n",
      "Melhor custo com as três matrizes 18990.729309877664\n"
     ]
    }
   ],
   "source": [
    "print(\"Melhor custo pro fac\", fac_result[\"cost\"])\n",
    "print(\"Melhor custo pro fou\", fou_result[\"cost\"])\n",
    "print(\"Melhor custo pro kar\", kar_result[\"cost\"])\n",
    "print(\"Melhor custo com as três matrizes\", todas_result[\"cost\"])"
   ]
  },
  {
   "cell_type": "markdown",
   "metadata": {},
   "source": [
    "### Modified partition coefficient"
   ]
  },
  {
   "cell_type": "code",
   "execution_count": 5,
   "metadata": {},
   "outputs": [
    {
     "name": "stdout",
     "output_type": "stream",
     "text": [
      ">> FAC (VIEW1) 0.012656027846346563\n",
      ">> FOU (VIEW2) 0.0003644924738648303\n",
      ">> KAR (VIEW3) 0.0009918034380510532\n",
      ">> TODAS (VIEW0) 0.5171485684755281\n"
     ]
    }
   ],
   "source": [
    "print('>> FAC (VIEW1)', clustering.calc_modified_partition_coefficient(fac_result[\"membership_degree\"]))\n",
    "print('>> FOU (VIEW2)', clustering.calc_modified_partition_coefficient(fou_result[\"membership_degree\"]))\n",
    "print('>> KAR (VIEW3)', clustering.calc_modified_partition_coefficient(kar_result[\"membership_degree\"]))\n",
    "print('>> TODAS (VIEW0)', clustering.calc_modified_partition_coefficient(todas_result[\"membership_degree\"]))"
   ]
  },
  {
   "cell_type": "markdown",
   "metadata": {},
   "source": [
    "### Entropy"
   ]
  },
  {
   "cell_type": "code",
   "execution_count": 6,
   "metadata": {},
   "outputs": [
    {
     "name": "stdout",
     "output_type": "stream",
     "text": [
      ">> FAC (VIEW1) 0.9773769238834532\n",
      ">> FOU (VIEW2) 0.9993079325937968\n",
      ">> KAR (VIEW3) 0.9981081541310196\n",
      ">> TODAS (VIEW0) 0.44597844611709286\n"
     ]
    }
   ],
   "source": [
    "print('>> FAC (VIEW1)', clustering.calc_partition_entropy(fac_result[\"membership_degree\"]))\n",
    "print('>> FOU (VIEW2)', clustering.calc_partition_entropy(fou_result[\"membership_degree\"]))\n",
    "print('>> KAR (VIEW3)', clustering.calc_partition_entropy(kar_result[\"membership_degree\"]))\n",
    "print('>> TODAS (VIEW0)', clustering.calc_partition_entropy(todas_result[\"membership_degree\"]))"
   ]
  },
  {
   "cell_type": "markdown",
   "metadata": {},
   "source": [
    "### Partições crisp"
   ]
  },
  {
   "cell_type": "code",
   "execution_count": 7,
   "metadata": {},
   "outputs": [],
   "source": [
    "from itertools import chain\n",
    "\n",
    "classses = clustering.get_instances_class(10)"
   ]
  },
  {
   "cell_type": "markdown",
   "metadata": {},
   "source": [
    "### Adjusted Rand Index"
   ]
  },
  {
   "cell_type": "code",
   "execution_count": 8,
   "metadata": {},
   "outputs": [
    {
     "name": "stdout",
     "output_type": "stream",
     "text": [
      ">> FAC (VIEW1) 0.28955002143740005\n",
      ">> FOU (VIEW2) 0.0993059031935507\n",
      ">> KAR (VIEW3) 0.0993059031935507\n",
      ">> TODAS (VIEW0) 0.648792424321116\n"
     ]
    }
   ],
   "source": [
    "from sklearn.metrics import adjusted_rand_score\n",
    "\n",
    "fac_crisp, fac_classes = clustering.get_hard_patitions(fac_result[\"membership_degree\"])\n",
    "fou_crisp, fou_classes = clustering.get_hard_patitions(fou_result[\"membership_degree\"])\n",
    "kar_crisp, kar_classes = clustering.get_hard_patitions(fou_result[\"membership_degree\"])\n",
    "todas_crisp, todas_classes = clustering.get_hard_patitions(todas_result[\"membership_degree\"])\n",
    "\n",
    "print('>> FAC (VIEW1)', adjusted_rand_score(fac_classes, classses))\n",
    "print('>> FOU (VIEW2)', adjusted_rand_score(fou_classes, classses))\n",
    "print('>> KAR (VIEW3)', adjusted_rand_score(kar_classes, classses))\n",
    "print('>> TODAS (VIEW0)', adjusted_rand_score(todas_classes, classses))"
   ]
  },
  {
   "cell_type": "markdown",
   "metadata": {},
   "source": [
    "### F-measure"
   ]
  },
  {
   "cell_type": "code",
   "execution_count": 9,
   "metadata": {},
   "outputs": [
    {
     "name": "stdout",
     "output_type": "stream",
     "text": [
      ">> FAC (VIEW1) 0.152\n",
      ">> FOU (VIEW2) 0.04900000000000001\n",
      ">> KAR (VIEW3) 0.04900000000000001\n",
      ">> TODAS (VIEW0) 0.0195\n"
     ]
    }
   ],
   "source": [
    "print('>> FAC (VIEW1)', f1_score(fac_classes, classses, average=\"micro\"))\n",
    "print('>> FOU (VIEW2)', f1_score(fou_classes, classses, average=\"micro\"))\n",
    "print('>> KAR (VIEW3)', f1_score(kar_classes, classses, average=\"micro\"))\n",
    "print('>> TODAS (VIEW0)', f1_score(todas_classes, classses, average=\"micro\"))"
   ]
  },
  {
   "cell_type": "markdown",
   "metadata": {},
   "source": [
    "### Erro de classificação"
   ]
  },
  {
   "cell_type": "code",
   "execution_count": 10,
   "metadata": {},
   "outputs": [
    {
     "name": "stdout",
     "output_type": "stream",
     "text": [
      ">> FAC (VIEW1) 0.848\n",
      ">> FOU (VIEW2) 0.951\n",
      ">> KAR (VIEW3) 0.951\n",
      ">> TODAS (VIEW0) 0.9805\n"
     ]
    }
   ],
   "source": [
    "print('>> FAC (VIEW1)', 1 - accuracy_score(fac_classes, classses))\n",
    "print('>> FOU (VIEW2)', 1 - accuracy_score(fou_classes, classses))\n",
    "print('>> KAR (VIEW3)', 1 - accuracy_score(kar_classes, classses))\n",
    "print('>> TODAS (VIEW0)', 1 - accuracy_score(todas_classes, classses))"
   ]
  },
  {
   "cell_type": "markdown",
   "metadata": {},
   "source": [
    "## Melhor resultado"
   ]
  },
  {
   "cell_type": "code",
   "execution_count": 11,
   "metadata": {},
   "outputs": [
    {
     "name": "stdout",
     "output_type": "stream",
     "text": [
      "Melhore resultado:  kar\n"
     ]
    }
   ],
   "source": [
    "fac_result[\"name\"] = \"fac\"\n",
    "fou_result[\"name\"] = \"fou\"\n",
    "kar_result[\"name\"] = \"kar\" \n",
    "todas_result[\"name\"] = \"todas\"\n",
    "\n",
    "melhor_resultado = min(fac_result, fou_result, kar_result, todas_result, key=lambda d:d[\"cost\"])\n",
    "print(\"Melhore resultado: \", melhor_resultado[\"name\"])"
   ]
  },
  {
   "cell_type": "markdown",
   "metadata": {},
   "source": [
    "### Prototipos"
   ]
  },
  {
   "cell_type": "code",
   "execution_count": 12,
   "metadata": {},
   "outputs": [
    {
     "data": {
      "text/plain": [
       "{0: [25, 78],\n",
       " 1: [25, 78],\n",
       " 2: [25, 78],\n",
       " 3: [25, 78],\n",
       " 4: [25, 78],\n",
       " 5: [25, 78],\n",
       " 6: [1890, 78],\n",
       " 7: [25, 78],\n",
       " 8: [1494, 1890],\n",
       " 9: [25, 78]}"
      ]
     },
     "execution_count": 12,
     "metadata": {},
     "output_type": "execute_result"
    }
   ],
   "source": [
    "{i:p for i,p in enumerate(melhor_resultado[\"prototypes\"])}"
   ]
  },
  {
   "cell_type": "markdown",
   "metadata": {},
   "source": [
    "### Parições crisp"
   ]
  },
  {
   "cell_type": "code",
   "execution_count": 13,
   "metadata": {},
   "outputs": [
    {
     "name": "stdout",
     "output_type": "stream",
     "text": [
      "Grupo:  0 Elementos:  [] Quantidade:  0\n",
      "Grupo:  1 Elementos:  [] Quantidade:  0\n",
      "Grupo:  2 Elementos:  [] Quantidade:  0\n",
      "Grupo:  3 Elementos:  [] Quantidade:  0\n",
      "Grupo:  4 Elementos:  [] Quantidade:  0\n",
      "Grupo:  5 Elementos:  [] Quantidade:  0\n",
      "Grupo:  6 Elementos:  [ 135  207  220  227  228  238  239  240  249  252  253  254  265  271\n",
      "  276  291  302  317  321  325  330  331  332  333  334  338  343  350\n",
      "  352  357  361  363  364  367  369  381  387  389  390  395  398  403\n",
      "  479  529  559  563  593  618  654  707  713  724  727  733  744  769\n",
      "  789  795  808  811  814  824  830  837  850  856  859  864  868  876\n",
      "  877  881  882  883  886  887  891  895  897  908  911  912  920  922\n",
      "  924  926  929  930  934  945  951  955  956  961  963  966  976  977\n",
      "  982  988  990  997  998  999 1002 1006 1013 1020 1021 1023 1026 1027\n",
      " 1033 1035 1048 1050 1051 1069 1075 1076 1078 1079 1089 1090 1096 1102\n",
      " 1106 1122 1123 1124 1126 1130 1132 1136 1138 1140 1145 1150 1152 1155\n",
      " 1159 1161 1166 1170 1190 1198 1199 1222 1323 1351 1405 1437 1476 1519\n",
      " 1557 1578 1595 1604 1608 1609 1611 1618 1619 1622 1626 1628 1635 1637\n",
      " 1639 1645 1651 1658 1668 1669 1671 1674 1691 1697 1702 1703 1706 1708\n",
      " 1719 1721 1738 1743 1746 1751 1755 1758 1763 1769 1770 1773 1776 1777\n",
      " 1788 1794 1796 1800 1802 1808 1809 1815 1816 1818 1819 1823 1824 1825\n",
      " 1829 1830 1833 1834 1835 1836 1839 1840 1842 1849 1851 1852 1855 1859\n",
      " 1860 1862 1864 1867 1868 1870 1871 1875 1876 1877 1879 1880 1882 1886\n",
      " 1887 1889 1895 1896 1899 1905 1907 1909 1912 1913 1914 1915 1918 1919\n",
      " 1921 1923 1924 1925 1926 1927 1928 1929 1930 1937 1938 1940 1941 1942\n",
      " 1943 1945 1946 1947 1949 1953 1954 1957 1959 1961 1968 1972 1978 1982\n",
      " 1983 1984 1987 1988 1990 1992 1993 1994 1995 1997 1998] Quantidade:  291\n",
      "Grupo:  7 Elementos:  [] Quantidade:  0\n",
      "Grupo:  8 Elementos:  [ 200  201  202  203  204  205  208  210  211  212  213  214  215  216\n",
      "  217  218  219  222  223  224  225  226  229  230  231  233  234  235\n",
      "  236  237  241  243  244  245  246  250  255  256  257  258  259  260\n",
      "  261  263  266  267  268  269  272  273  274  275  277  278  279  280\n",
      "  281  283  284  285  286  287  288  289  293  294  297  298  299  300\n",
      "  301  303  304  305  306  307  308  309  310  311  312  314  315  316\n",
      "  318  319  320  322  324  326  327  328  329  335  336  337  339  340\n",
      "  341  342  344  345  346  347  348  349  351  353  354  355  356  358\n",
      "  359  360  362  365  366  373  374  375  376  377  378  379  380  382\n",
      "  383  384  385  386  388  391  392  394  396  397  399  400  411  412\n",
      "  413  414  417  420  423  424  425  433  434  435  441  443  444  446\n",
      "  447  448  449  450  452  453  454  456  459  460  463  464  465  466\n",
      "  467  468  470  471  475  476  477  483  484  485  486  491  493  495\n",
      "  497  498  499  500  501  502  503  508  509  512  513  515  516  518\n",
      "  520  523  532  535  536  538  539  542  543  546  547  552  553  554\n",
      "  555  556  562  566  569  570  572  575  576  577  578  580  582  583\n",
      "  584  585  589  590  591  592  595  596  597  598  599  602  603  607\n",
      "  608  610  613  614  617  623  626  628  632  633  637  639  641  642\n",
      "  643  644  647  649  652  653  655  656  657  658  659  662  663  665\n",
      "  666  668  670  672  674  679  681  686  687  688  689  698  702  703\n",
      "  704  712  714  718  721  729  731  732  734  737  738  739  742  743\n",
      "  746  747  749  753  754  756  757  760  761  762  763  764  765  766\n",
      "  767  771  773  778  781  782  783  788  790  796  797  803  826  832\n",
      "  841  854  857  878  900  905  939  943  950  957  960  971  974 1007\n",
      " 1008 1010 1022 1024 1029 1030 1037 1042 1052 1053 1054 1056 1061 1062\n",
      " 1063 1072 1073 1074 1077 1081 1084 1085 1087 1093 1095 1097 1099 1100\n",
      " 1101 1104 1105 1108 1109 1116 1120 1129 1134 1139 1141 1142 1157 1167\n",
      " 1175 1179 1181 1183 1186 1191 1193 1194 1195 1299 1330 1345 1401 1402\n",
      " 1403 1404 1406 1407 1408 1409 1410 1411 1412 1413 1414 1415 1416 1417\n",
      " 1418 1419 1420 1421 1422 1423 1424 1425 1426 1427 1428 1429 1430 1431\n",
      " 1432 1433 1434 1435 1436 1438 1439 1440 1441 1442 1443 1444 1445 1446\n",
      " 1447 1448 1449 1450 1451 1452 1453 1454 1455 1456 1457 1458 1459 1460\n",
      " 1461 1462 1463 1464 1465 1466 1467 1468 1469 1470 1471 1472 1473 1474\n",
      " 1475 1477 1478 1479 1480 1481 1482 1483 1484 1485 1486 1487 1488 1489\n",
      " 1490 1491 1492 1493 1494 1495 1496 1497 1498 1499 1500 1501 1502 1503\n",
      " 1504 1505 1506 1507 1508 1509 1511 1512 1513 1514 1515 1516 1517 1518\n",
      " 1520 1521 1522 1523 1524 1525 1526 1527 1528 1529 1530 1531 1532 1533\n",
      " 1534 1535 1536 1537 1538 1539 1540 1541 1542 1543 1544 1545 1546 1547\n",
      " 1548 1549 1550 1551 1552 1553 1554 1555 1556 1558 1559 1560 1561 1562\n",
      " 1563 1564 1565 1566 1567 1568 1569 1570 1571 1572 1573 1574 1575 1576\n",
      " 1577 1579 1580 1581 1582 1583 1584 1585 1586 1587 1588 1589 1590 1591\n",
      " 1592 1593 1594 1596 1597 1598 1599 1603 1623 1624 1625 1634 1663 1667\n",
      " 1696 1699 1725 1729 1733 1741 1750 1761 1801 1803 1804 1805 1807 1810\n",
      " 1811 1812 1813 1814 1817 1821 1826 1827 1828 1831 1843 1844 1845 1846\n",
      " 1847 1848 1850 1853 1854 1856 1857 1858 1863 1865 1866 1869 1873 1874\n",
      " 1878 1881 1883 1884 1888 1890 1891 1892 1893 1894 1897 1898 1900 1901\n",
      " 1902 1903 1904 1906 1908 1910 1911 1916 1920 1922 1931 1932 1933 1934\n",
      " 1935 1939 1944 1948 1950 1952 1955 1956 1958 1960 1962 1963 1964 1965\n",
      " 1966 1969 1970 1971 1974 1975 1976 1977 1979 1980 1981 1985 1986 1989\n",
      " 1996 1999] Quantidade:  688\n",
      "Grupo:  9 Elementos:  [   0    1    2 ... 1967 1973 1991] Quantidade:  1021\n",
      "Total de elementos somados: 2000\n"
     ]
    }
   ],
   "source": [
    "membership_degree = melhor_resultado[\"membership_degree\"]\n",
    "melhor_hard, melhor_classes = clustering.get_hard_patitions(membership_degree)\n",
    "\n",
    "for number, group in enumerate(melhor_hard):\n",
    "    print(\"Grupo: \", number, \"Elementos: \", group, \"Quantidade: \", len(group))\n",
    "\n",
    "print(\"Total de elementos somados:\",  sum([len(g) for g in melhor_hard]))"
   ]
  },
  {
   "cell_type": "markdown",
   "metadata": {},
   "source": [
    "###  Modified partition coefficient"
   ]
  },
  {
   "cell_type": "code",
   "execution_count": 14,
   "metadata": {},
   "outputs": [
    {
     "name": "stdout",
     "output_type": "stream",
     "text": [
      ">>  0.0009918034380510532\n"
     ]
    }
   ],
   "source": [
    "print('>> ', clustering.calc_modified_partition_coefficient(melhor_resultado[\"membership_degree\"]))"
   ]
  },
  {
   "cell_type": "markdown",
   "metadata": {},
   "source": [
    "### Adjusted Rand Index"
   ]
  },
  {
   "cell_type": "code",
   "execution_count": 15,
   "metadata": {},
   "outputs": [
    {
     "name": "stdout",
     "output_type": "stream",
     "text": [
      ">>  0.28955002143740005\n"
     ]
    }
   ],
   "source": [
    "print('>> ', adjusted_rand_score(fac_classes, classses))"
   ]
  },
  {
   "cell_type": "markdown",
   "metadata": {},
   "source": [
    "### F-measure"
   ]
  },
  {
   "cell_type": "code",
   "execution_count": 16,
   "metadata": {},
   "outputs": [
    {
     "name": "stdout",
     "output_type": "stream",
     "text": [
      ">>  0.017\n"
     ]
    }
   ],
   "source": [
    "print('>> ', f1_score(melhor_classes, classses, average=\"micro\"))"
   ]
  },
  {
   "cell_type": "markdown",
   "metadata": {},
   "source": [
    "### Erro de classificação"
   ]
  },
  {
   "cell_type": "code",
   "execution_count": 17,
   "metadata": {},
   "outputs": [
    {
     "name": "stdout",
     "output_type": "stream",
     "text": [
      ">>  0.983\n"
     ]
    }
   ],
   "source": [
    "print('>> ', 1 - accuracy_score(melhor_classes, classses))"
   ]
  }
 ],
 "metadata": {
  "colab": {
   "collapsed_sections": [],
   "name": "02_clusterizar_lazy_version.ipynb",
   "provenance": [],
   "toc_visible": true
  },
  "kernelspec": {
   "display_name": "Python 3",
   "language": "python",
   "name": "python3"
  },
  "language_info": {
   "codemirror_mode": {
    "name": "ipython",
    "version": 3
   },
   "file_extension": ".py",
   "mimetype": "text/x-python",
   "name": "python",
   "nbconvert_exporter": "python",
   "pygments_lexer": "ipython3",
   "version": "3.6.10"
  },
  "toc": {
   "base_numbering": 1,
   "nav_menu": {},
   "number_sections": true,
   "sideBar": true,
   "skip_h1_title": false,
   "title_cell": "Table of Contents",
   "title_sidebar": "Contents",
   "toc_cell": false,
   "toc_position": {
    "height": "calc(100% - 180px)",
    "left": "10px",
    "top": "150px",
    "width": "239px"
   },
   "toc_section_display": true,
   "toc_window_display": true
  }
 },
 "nbformat": 4,
 "nbformat_minor": 1
}
