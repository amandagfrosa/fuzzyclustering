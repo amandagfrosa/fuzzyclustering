{
 "cells": [
  {
   "cell_type": "markdown",
   "metadata": {
    "colab_type": "text",
    "id": "JUlhNVAObqE5"
   },
   "source": [
    "# Implementação do algortimo completo, sem compromisso com  perfomance"
   ]
  },
  {
   "cell_type": "markdown",
   "metadata": {
    "colab_type": "text",
    "id": "SS-G2leHdobn"
   },
   "source": [
    "## Carregando as matrizes de dissimilaridade"
   ]
  },
  {
   "cell_type": "code",
   "execution_count": null,
   "metadata": {
    "colab": {},
    "colab_type": "code",
    "id": "d2gEvW3EdWJT"
   },
   "outputs": [],
   "source": [
    "import os\n",
    "import numpy as np\n",
    "\n",
    "DATA_BASE_PATH = \"./data\"\n",
    "\n",
    "FAC_FILE = os.path.join(DATA_BASE_PATH, \"mfeat-fac-dissimilarity.npy\")\n",
    "FOU_FILE = os.path.join(DATA_BASE_PATH, \"mfeat-fou-dissimilarity.npy\")\n",
    "KAR_FILE = os.path.join(DATA_BASE_PATH, \"mfeat-kar-dissimilarity.npy\")\n",
    "\n",
    "fac_dis = np.load(FAC_FILE)\n",
    "fou_dis = np.load(FOU_FILE)\n",
    "kar_dis = np.load(KAR_FILE)\n"
   ]
  },
  {
   "cell_type": "markdown",
   "metadata": {
    "colab_type": "text",
    "id": "lXxVfg2r6YrR"
   },
   "source": [
    "## Definindo a função match"
   ]
  },
  {
   "cell_type": "code",
   "execution_count": null,
   "metadata": {
    "colab": {},
    "colab_type": "code",
    "id": "kG6AUH5q6lAv"
   },
   "outputs": [],
   "source": [
    "\n",
    "# def cluster_matching_function(weight_matrix, \n",
    "#                               cluster_qtd,\n",
    "#                               element, \n",
    "#                               prototypes, \n",
    "#                               dissimilarity_matrices):\n",
    "#   k = cluster_qtd\n",
    "#   p = len(dissimilarity_matrices)\n",
    "#   Gk = prototypes[k]\n",
    "#   D = 0\n",
    "\n",
    "#   for j in range(p):\n",
    "#     dj = dissimilarity_matrices[j]\n",
    "#     inner_sum = sum([dj[element, e] for e in Gk])\n",
    "#     D += weight_matrix[k,j] * inner_sum\n",
    "  \n",
    "#   return D\n",
    "\n",
    "def cluster_matching_function(weight_matrix, \n",
    "                              cluster_number,\n",
    "                              element, \n",
    "                              prototypes, \n",
    "                              dissimilarity_matrices):\n",
    "  k = cluster_number\n",
    "  D = dissimilarity_matrices\n",
    "  p = len(D)\n",
    "  Gk = prototypes[k]\n",
    "\n",
    "  weights = weight_matrix[k,:p]\n",
    "  dissimilarities_sum = np.array([sum([dj[element, e] for e in Gk]) for dj in D])\n",
    "  return np.dot(weights, dissimilarities_sum)\n",
    "\n"
   ]
  },
  {
   "cell_type": "markdown",
   "metadata": {
    "colab_type": "text",
    "id": "EdvnqRHK8wBq"
   },
   "source": [
    "## Definindo a função objetivo"
   ]
  },
  {
   "cell_type": "code",
   "execution_count": null,
   "metadata": {
    "colab": {},
    "colab_type": "code",
    "id": "CUfSEUkfcAnN"
   },
   "outputs": [],
   "source": [
    "import functools\n",
    "import operator\n",
    "import math \n",
    "\n",
    "# def objective_function(clusters_qtd, \n",
    "#                        elements_qtd, \n",
    "#                        adequacy_criterion, \n",
    "#                        m, \n",
    "#                        weight_matrix, \n",
    "#                        prototypes,\n",
    "#                        dissimilarity_matrices):\n",
    "#   J = 0\n",
    "#   u = adequacy_criterion\n",
    "#   m_func = cluster_matching_function\n",
    "\n",
    "#   for k in clusters_qtd:\n",
    "#     D = 0\n",
    "\n",
    "#     for i in range(elements_qtd):\n",
    "#       D+= (u[i,k] ** m) * m_func(weight_matrix,\n",
    "#                                   clusters_qtd,\n",
    "#                                   i,\n",
    "#                                   prototypes,\n",
    "#                                   dissimilarity_matrices)\n",
    "#     J += D\n",
    "\n",
    "#   return J\n",
    "\n",
    "def objective_function(clusters_qtd, \n",
    "                       elements_qtd, \n",
    "                       adequacy_criterion, \n",
    "                       m, \n",
    "                       weight_matrix, \n",
    "                       prototypes,\n",
    "                       dissimilarity_matrices):\n",
    "  \n",
    "  u = np.power(adequacy_criterion, m)\n",
    "  l = weight_matrix\n",
    "  D = dissimilarity_matrices\n",
    "  K = clusters_qtd\n",
    "  Gk = prototypes\n",
    "  n = elements_qtd\n",
    "  match = cluster_matching_function\n",
    "\n",
    "  J = [sum([u[i,k] * match(l, k, i, Gk, D) for i in range(n)]) \n",
    "          for k in range(K)]\n",
    "\n",
    " \n",
    "  return sum(J)\n",
    "    "
   ]
  },
  {
   "cell_type": "markdown",
   "metadata": {
    "colab_type": "text",
    "id": "MzyvZQxb9Iiy"
   },
   "source": [
    "## Definindo a função da cálculo de protótipos"
   ]
  },
  {
   "cell_type": "code",
   "execution_count": null,
   "metadata": {
    "colab": {},
    "colab_type": "code",
    "id": "40yFT3299PVp"
   },
   "outputs": [],
   "source": [
    "def get_prototypes(elements_qtd, \n",
    "                  q, \n",
    "                  m, \n",
    "                  s,\n",
    "                  cluster_number,\n",
    "                  adequacy_criterion,\n",
    "                  dissimilarity_matrices, \n",
    "                  weight_matrix):\n",
    "  G = []\n",
    "  k = cluster_number,\n",
    "  D = dissimilarity_matrices\n",
    "  u = adequacy_criterion\n",
    "  l = weight_matrix\n",
    "  n = elements_qtd\n",
    "  p = len(D)\n",
    "\n",
    "  def dist(element):\n",
    "    return element, sum([(u[i,k]**m) * sum([(l[j,k])**s * D[j][element,i] for j in range(p)])\n",
    "          for i in range(elements_qtd)\n",
    "          \n",
    "          ]\n",
    "        )\n",
    "    \n",
    "\n",
    "  while (len(G) < q):\n",
    "    all_distances = (dist(i) for i in range(n) if i not in G)\n",
    "    G.append(min(all_distances, key=functools.itemgetter(1)))\n",
    "\n",
    "  return G"
   ]
  },
  {
   "cell_type": "markdown",
   "metadata": {
    "colab_type": "text",
    "id": "wmu24Eka9wdS"
   },
   "source": [
    "## Definindo a função de computo da matriz de relevâcia"
   ]
  },
  {
   "cell_type": "code",
   "execution_count": null,
   "metadata": {
    "colab": {},
    "colab_type": "code",
    "id": "02tqmGYnBImF"
   },
   "outputs": [],
   "source": [
    "def compute_relevance_weights(clusters_qtd,\n",
    "                              dissimilarity_matrices,\n",
    "                              prototypes,\n",
    "                              elements_qtd,\n",
    "                              adequacy_criterion,\n",
    "                              m):\n",
    "  \n",
    "    D = dissimilarity_matrices\n",
    "    p = len(D)\n",
    "    Gk = prototypes\n",
    "    K = clusters_qtd\n",
    "    n = elements_qtd\n",
    "    u = np.power(adequacy_criterion, m)\n",
    "    match = cluster_matching_function\n",
    "    l = np.zeros(K, p)\n",
    "\n",
    "    for k in range(K):\n",
    "      for j in range(p):\n",
    "        weight_dissimilarity_sum = [sum([u[i,k] * match(l, k, i, Gk, D[h]) for i in range(n)])\n",
    "                                    for h in range(p)]\n",
    "                                    \n",
    "        weight_dissimilarity_prod = functools.reduce(operator.mul, weight_dissimilarity_sum)\n",
    "        weight_dissimilarity_sum = sum([u[i,k] * match(l, k, i, Gk, D[j]) for i in range(n)])\n",
    "        l[k,j] = math.pow(weight_dissimilarity_prod, 1/p) / weight_dissimilarity_sum\n",
    "\n",
    "    return l"
   ]
  }
 ],
 "metadata": {
  "colab": {
   "collapsed_sections": [],
   "name": "02_clusterizar_lazy_version.ipynb",
   "provenance": [],
   "toc_visible": true
  },
  "kernelspec": {
   "display_name": "Python 3",
   "language": "python",
   "name": "python3"
  },
  "language_info": {
   "codemirror_mode": {
    "name": "ipython",
    "version": 3
   },
   "file_extension": ".py",
   "mimetype": "text/x-python",
   "name": "python",
   "nbconvert_exporter": "python",
   "pygments_lexer": "ipython3",
   "version": "3.6.10"
  }
 },
 "nbformat": 4,
 "nbformat_minor": 1
}
