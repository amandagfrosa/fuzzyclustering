{
 "cells": [
  {
   "cell_type": "markdown",
   "metadata": {
    "colab_type": "text",
    "id": "JUlhNVAObqE5"
   },
   "source": [
    "# Implementação do algoritimo completo, sem compromisso com  perfomance"
   ]
  },
  {
   "cell_type": "markdown",
   "metadata": {
    "colab_type": "text",
    "id": "SS-G2leHdobn"
   },
   "source": [
    "## Carregando as matrizes de dissimilaridade"
   ]
  },
  {
   "cell_type": "code",
   "execution_count": 12,
   "metadata": {
    "colab": {},
    "colab_type": "code",
    "id": "d2gEvW3EdWJT"
   },
   "outputs": [],
   "source": [
    "import os\n",
    "import numpy as np\n",
    "\n",
    "DATA_BASE_PATH = \"./data\"\n",
    "\n",
    "FAC_FILE = os.path.join(DATA_BASE_PATH, \"mfeat-fac-dissimilarity.npy\")\n",
    "FOU_FILE = os.path.join(DATA_BASE_PATH, \"mfeat-fou-dissimilarity.npy\")\n",
    "KAR_FILE = os.path.join(DATA_BASE_PATH, \"mfeat-kar-dissimilarity.npy\")\n",
    "\n",
    "fac_dis = np.load(FAC_FILE)\n",
    "fou_dis = np.load(FOU_FILE)\n",
    "kar_dis = np.load(KAR_FILE)\n"
   ]
  },
  {
   "cell_type": "markdown",
   "metadata": {
    "colab_type": "text",
    "id": "lXxVfg2r6YrR"
   },
   "source": [
    "## Definindo a função match\n",
    "\n",
    "![Match function](./img/match_function.png)"
   ]
  },
  {
   "cell_type": "code",
   "execution_count": 13,
   "metadata": {
    "colab": {},
    "colab_type": "code",
    "id": "kG6AUH5q6lAv"
   },
   "outputs": [],
   "source": [
    "def cluster_matching_function(weight_matrix, \n",
    "                              cluster_number,\n",
    "                              element, \n",
    "                              prototypes, \n",
    "                              dissimilarity_matrices):\n",
    "    \"\"\"\n",
    "        :params: weight_matrix: numpy array-like \n",
    "                    matriz K x P de pesos das matrizes de dissimilaridades por cluster\n",
    "                cluster_number: int\n",
    "                    Número do cluster em questão\n",
    "                element: int\n",
    "                    Índice do elemento (entre 0 e N-1)\n",
    "                prototypes: list like\n",
    "                    Lista de tamanho K dos protótipos de cada cluster\n",
    "                dissimilarity_matrices: lista de numpy array\n",
    "                    Lista de matrizes de dissimilaridade\n",
    "        \n",
    "        :return: float\n",
    "                    \n",
    "    \"\"\"\n",
    "    \n",
    "    # Criando aliases compatíveis com os nomes da fórmula\n",
    "    k = cluster_number\n",
    "    D = dissimilarity_matrices\n",
    "    p = len(D)\n",
    "    Gk = prototypes[k]\n",
    "\n",
    "    weights = weight_matrix[k,:p]\n",
    "    dissimilarities_sum = np.array([sum([dj[element, e] for e in Gk]) for dj in D])\n",
    "    return np.dot(weights, dissimilarities_sum)\n",
    "\n"
   ]
  },
  {
   "cell_type": "markdown",
   "metadata": {
    "colab_type": "text",
    "id": "EdvnqRHK8wBq"
   },
   "source": [
    "## Definindo a função objetivo\n",
    "\n",
    "![Objetive function](./img/objective_function.png)"
   ]
  },
  {
   "cell_type": "code",
   "execution_count": 14,
   "metadata": {
    "colab": {},
    "colab_type": "code",
    "id": "CUfSEUkfcAnN"
   },
   "outputs": [],
   "source": [
    "import functools\n",
    "import operator\n",
    "import math \n",
    "\n",
    "def objective_function(clusters_qtd, \n",
    "                       elements_qtd, \n",
    "                       adequacy_criterion, \n",
    "                       m, \n",
    "                       weight_matrix, \n",
    "                       prototypes,\n",
    "                       dissimilarity_matrices):\n",
    "        \"\"\"\n",
    "        :params: clusters_qtd: int\n",
    "                    Quantidade total de clusters\n",
    "                elements_qtd: int \n",
    "                    Quantidade de elementos da base de dados\n",
    "                adequacy_criterion: numpy array-like\n",
    "                    Matriz u de tamanho N x K contendo a índice de adequação de cada elemente a cada cluster\n",
    "                m: int\n",
    "                    Fator de ponderação do índice de adequação\n",
    "                weight_matrix: \n",
    "                     matriz K x P de pesos das matrizes de dissimilaridades por cluster\n",
    "                prototypes: list like\n",
    "                    Lista de tamanho K dos protótipos de cada cluster\n",
    "                dissimilarity_matrices: lista de numpy array\n",
    "                    Lista de matrizes de dissimilaridade\n",
    "                    \n",
    "        :return: float\n",
    "                    \n",
    "    \"\"\"\n",
    "        \n",
    "    u = np.power(adequacy_criterion, m) # Resolvendo a exponeciação de u de uma vez só\n",
    "    l = weight_matrix\n",
    "    D = dissimilarity_matrices\n",
    "    K = clusters_qtd\n",
    "    Gk = prototypes\n",
    "    N = elements_qtd\n",
    "    match = cluster_matching_function # Criando um alias para reduzir o nome da função de matching\n",
    "  \n",
    "    J = [sum([u[i, k] * match(l, k, i, Gk, D) for i in range(N)]) \n",
    "          for k in range(K)]\n",
    "\n",
    "\n",
    "    return sum(J) \n",
    "    "
   ]
  },
  {
   "cell_type": "markdown",
   "metadata": {
    "colab_type": "text",
    "id": "MzyvZQxb9Iiy"
   },
   "source": [
    "## Definindo a função da cálculo de protótipos\n",
    "\n",
    "![Prototype function](./img/prototype_function.png)"
   ]
  },
  {
   "cell_type": "code",
   "execution_count": 19,
   "metadata": {
    "colab": {},
    "colab_type": "code",
    "id": "40yFT3299PVp"
   },
   "outputs": [],
   "source": [
    "def get_prototypes(elements_qtd, \n",
    "                  q, \n",
    "                  m, \n",
    "                  s,\n",
    "                  cluster_number,\n",
    "                  adequacy_criterion,\n",
    "                  dissimilarity_matrices, \n",
    "                  weight_matrix):\n",
    "    \n",
    "    \"\"\"\n",
    "        :params:\n",
    "                elements_qtd: int \n",
    "                    Quantidade de elementos da base de dados\n",
    "                q: int\n",
    "                    Quantidade de elementos protótipos\n",
    "                m: int\n",
    "                    Fator de ponderação do índice de adequação\n",
    "                s: int\n",
    "                    Fator de ponderação dos pesos das matrizes\n",
    "                cluster_number: int\n",
    "                    Quantidade total de clusters\n",
    "                adequacy_criterion: numpy array-like\n",
    "                    Matriz u de tamanho N x K contendo a índice de adequação de cada elemente a cada cluster\n",
    "                dissimilarity_matrices: lista de numpy array\n",
    "                    Lista de matrizes de dissimilaridade\n",
    "                weight_matrix: \n",
    "                     matriz K x P de pesos das matrizes de dissimilaridades por cluster\n",
    "                    \n",
    "        :return: list\n",
    "                    \n",
    "    \"\"\"\n",
    "    \n",
    "    G = []\n",
    "    k = cluster_number,\n",
    "    D = dissimilarity_matrices\n",
    "    u = np.power(adequacy_criterion, m) \n",
    "    l = np.power(weight_matrix, s)\n",
    "    N = elements_qtd\n",
    "    p = len(D)\n",
    "\n",
    "    def dist(element):\n",
    "        \"\"\"\n",
    "            Função auxiliar para cálculo da distância de um elemento qualquer \n",
    "            em relação a todos os outros da base de dados, consideran as matrizes de dissimilaridade e \n",
    "            o critério de adequação\n",
    "            \n",
    "            return: (int, float)\n",
    "                (lement, soma das distâncias)\n",
    "        \"\"\"\n",
    "        return element, sum([u[i,k] * sum([l[k,j] * D[j][element, i] for j in range(p)])\n",
    "              for i in range(elements_qtd)\n",
    "\n",
    "              ]\n",
    "            )\n",
    "\n",
    "\n",
    "    while (len(G) < q):\n",
    "        #Calculando todas as distâncias dos elementos que ainda não estão em G\n",
    "        all_distances = (dist(i) for i in range(N) if i not in G) \n",
    "        element, _ = min(all_distances, key=functools.itemgetter(1))\n",
    "        G.append(element)\n",
    "\n",
    "    return G"
   ]
  },
  {
   "cell_type": "markdown",
   "metadata": {
    "colab_type": "text",
    "id": "wmu24Eka9wdS"
   },
   "source": [
    "## Definindo a função de computo da matriz de relevâcia\n",
    "\n",
    "![Funções de peso](./img/vector_weights_function.png)"
   ]
  },
  {
   "cell_type": "code",
   "execution_count": null,
   "metadata": {
    "colab": {},
    "colab_type": "code",
    "id": "02tqmGYnBImF"
   },
   "outputs": [],
   "source": [
    "def compute_relevance_weights(clusters_qtd,\n",
    "                              dissimilarity_matrices,\n",
    "                              prototypes,\n",
    "                              elements_qtd,\n",
    "                              adequacy_criterion,\n",
    "                              m):\n",
    "  \n",
    "    D = dissimilarity_matrices\n",
    "    p = len(D)\n",
    "    Gk = prototypes\n",
    "    K = clusters_qtd\n",
    "    n = elements_qtd\n",
    "    u = np.power(adequacy_criterion, m)\n",
    "    match = cluster_matching_function\n",
    "    l = np.zeros(K, p)\n",
    "\n",
    "    for k in range(K):\n",
    "        for j in range(p):\n",
    "        weight_dissimilarity_sum = [sum([u[i,k] * match(l, k, i, Gk, D[h]) for i in range(n)])\n",
    "                                    for h in range(p)]\n",
    "\n",
    "        weight_dissimilarity_prod = functools.reduce(operator.mul, weight_dissimilarity_sum)\n",
    "        weight_dissimilarity_sum = sum([u[i,k] * match(l, k, i, Gk, D[j]) for i in range(n)])\n",
    "        l[k,j] = math.pow(weight_dissimilarity_prod, 1/p) / weight_dissimilarity_sum\n",
    "\n",
    "    return l"
   ]
  }
 ],
 "metadata": {
  "colab": {
   "collapsed_sections": [],
   "name": "02_clusterizar_lazy_version.ipynb",
   "provenance": [],
   "toc_visible": true
  },
  "kernelspec": {
   "display_name": "Python 3",
   "language": "python",
   "name": "python3"
  },
  "language_info": {
   "codemirror_mode": {
    "name": "ipython",
    "version": 3
   },
   "file_extension": ".py",
   "mimetype": "text/x-python",
   "name": "python",
   "nbconvert_exporter": "python",
   "pygments_lexer": "ipython3",
   "version": "3.6.10"
  }
 },
 "nbformat": 4,
 "nbformat_minor": 1
}
